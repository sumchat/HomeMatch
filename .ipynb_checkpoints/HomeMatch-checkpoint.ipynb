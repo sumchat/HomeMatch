{
 "cells": [
  {
   "cell_type": "markdown",
   "id": "0dd4bb75-a294-495f-be28-3044b01d2c4a",
   "metadata": {},
   "source": [
    "## Install Libraries"
   ]
  },
  {
   "cell_type": "code",
   "execution_count": 4,
   "id": "e2b70390-96d1-4855-9f08-d5711bd52aff",
   "metadata": {
    "scrolled": true
   },
   "outputs": [
    {
     "name": "stdout",
     "output_type": "stream",
     "text": [
      "Collecting langchain-community\n",
      "  Downloading langchain_community-0.3.17-py3-none-any.whl.metadata (2.4 kB)\n",
      "Requirement already satisfied: langchain-core in c:\\users\\sum_c\\anaconda3\\envs\\py3_env\\lib\\site-packages (0.3.35)\n",
      "Requirement already satisfied: langchain<1.0.0,>=0.3.18 in c:\\users\\sum_c\\anaconda3\\envs\\py3_env\\lib\\site-packages (from langchain-community) (0.3.18)\n",
      "Requirement already satisfied: SQLAlchemy<3,>=1.4 in c:\\users\\sum_c\\anaconda3\\envs\\py3_env\\lib\\site-packages (from langchain-community) (2.0.38)\n",
      "Requirement already satisfied: requests<3,>=2 in c:\\users\\sum_c\\anaconda3\\envs\\py3_env\\lib\\site-packages (from langchain-community) (2.32.3)\n",
      "Requirement already satisfied: PyYAML>=5.3 in c:\\users\\sum_c\\anaconda3\\envs\\py3_env\\lib\\site-packages (from langchain-community) (6.0.2)\n",
      "Requirement already satisfied: aiohttp<4.0.0,>=3.8.3 in c:\\users\\sum_c\\anaconda3\\envs\\py3_env\\lib\\site-packages (from langchain-community) (3.11.12)\n",
      "Requirement already satisfied: tenacity!=8.4.0,<10,>=8.1.0 in c:\\users\\sum_c\\anaconda3\\envs\\py3_env\\lib\\site-packages (from langchain-community) (9.0.0)\n",
      "Collecting dataclasses-json<0.7,>=0.5.7 (from langchain-community)\n",
      "  Downloading dataclasses_json-0.6.7-py3-none-any.whl.metadata (25 kB)\n",
      "Collecting pydantic-settings<3.0.0,>=2.4.0 (from langchain-community)\n",
      "  Downloading pydantic_settings-2.7.1-py3-none-any.whl.metadata (3.5 kB)\n",
      "Requirement already satisfied: langsmith<0.4,>=0.1.125 in c:\\users\\sum_c\\anaconda3\\envs\\py3_env\\lib\\site-packages (from langchain-community) (0.3.8)\n",
      "Collecting httpx-sse<1.0.0,>=0.4.0 (from langchain-community)\n",
      "  Downloading httpx_sse-0.4.0-py3-none-any.whl.metadata (9.0 kB)\n",
      "Requirement already satisfied: numpy<3,>=1.26.2 in c:\\users\\sum_c\\anaconda3\\envs\\py3_env\\lib\\site-packages (from langchain-community) (2.2.3)\n",
      "Requirement already satisfied: jsonpatch<2.0,>=1.33 in c:\\users\\sum_c\\anaconda3\\envs\\py3_env\\lib\\site-packages (from langchain-core) (1.33)\n",
      "Requirement already satisfied: packaging<25,>=23.2 in c:\\users\\sum_c\\anaconda3\\envs\\py3_env\\lib\\site-packages (from langchain-core) (24.2)\n",
      "Requirement already satisfied: typing-extensions>=4.7 in c:\\users\\sum_c\\anaconda3\\envs\\py3_env\\lib\\site-packages (from langchain-core) (4.12.2)\n",
      "Requirement already satisfied: pydantic<3.0.0,>=2.7.4 in c:\\users\\sum_c\\anaconda3\\envs\\py3_env\\lib\\site-packages (from langchain-core) (2.10.6)\n",
      "Requirement already satisfied: aiohappyeyeballs>=2.3.0 in c:\\users\\sum_c\\anaconda3\\envs\\py3_env\\lib\\site-packages (from aiohttp<4.0.0,>=3.8.3->langchain-community) (2.4.6)\n",
      "Requirement already satisfied: aiosignal>=1.1.2 in c:\\users\\sum_c\\anaconda3\\envs\\py3_env\\lib\\site-packages (from aiohttp<4.0.0,>=3.8.3->langchain-community) (1.3.2)\n",
      "Requirement already satisfied: attrs>=17.3.0 in c:\\users\\sum_c\\anaconda3\\envs\\py3_env\\lib\\site-packages (from aiohttp<4.0.0,>=3.8.3->langchain-community) (25.1.0)\n",
      "Requirement already satisfied: frozenlist>=1.1.1 in c:\\users\\sum_c\\anaconda3\\envs\\py3_env\\lib\\site-packages (from aiohttp<4.0.0,>=3.8.3->langchain-community) (1.5.0)\n",
      "Requirement already satisfied: multidict<7.0,>=4.5 in c:\\users\\sum_c\\anaconda3\\envs\\py3_env\\lib\\site-packages (from aiohttp<4.0.0,>=3.8.3->langchain-community) (6.1.0)\n",
      "Requirement already satisfied: propcache>=0.2.0 in c:\\users\\sum_c\\anaconda3\\envs\\py3_env\\lib\\site-packages (from aiohttp<4.0.0,>=3.8.3->langchain-community) (0.2.1)\n",
      "Requirement already satisfied: yarl<2.0,>=1.17.0 in c:\\users\\sum_c\\anaconda3\\envs\\py3_env\\lib\\site-packages (from aiohttp<4.0.0,>=3.8.3->langchain-community) (1.18.3)\n",
      "Collecting marshmallow<4.0.0,>=3.18.0 (from dataclasses-json<0.7,>=0.5.7->langchain-community)\n",
      "  Downloading marshmallow-3.26.1-py3-none-any.whl.metadata (7.3 kB)\n",
      "Collecting typing-inspect<1,>=0.4.0 (from dataclasses-json<0.7,>=0.5.7->langchain-community)\n",
      "  Downloading typing_inspect-0.9.0-py3-none-any.whl.metadata (1.5 kB)\n",
      "Requirement already satisfied: jsonpointer>=1.9 in c:\\users\\sum_c\\anaconda3\\envs\\py3_env\\lib\\site-packages (from jsonpatch<2.0,>=1.33->langchain-core) (3.0.0)\n",
      "Requirement already satisfied: langchain-text-splitters<1.0.0,>=0.3.6 in c:\\users\\sum_c\\anaconda3\\envs\\py3_env\\lib\\site-packages (from langchain<1.0.0,>=0.3.18->langchain-community) (0.3.6)\n",
      "Requirement already satisfied: httpx<1,>=0.23.0 in c:\\users\\sum_c\\anaconda3\\envs\\py3_env\\lib\\site-packages (from langsmith<0.4,>=0.1.125->langchain-community) (0.28.1)\n",
      "Requirement already satisfied: orjson<4.0.0,>=3.9.14 in c:\\users\\sum_c\\anaconda3\\envs\\py3_env\\lib\\site-packages (from langsmith<0.4,>=0.1.125->langchain-community) (3.10.15)\n",
      "Requirement already satisfied: requests-toolbelt<2.0.0,>=1.0.0 in c:\\users\\sum_c\\anaconda3\\envs\\py3_env\\lib\\site-packages (from langsmith<0.4,>=0.1.125->langchain-community) (1.0.0)\n",
      "Requirement already satisfied: zstandard<0.24.0,>=0.23.0 in c:\\users\\sum_c\\anaconda3\\envs\\py3_env\\lib\\site-packages (from langsmith<0.4,>=0.1.125->langchain-community) (0.23.0)\n",
      "Requirement already satisfied: annotated-types>=0.6.0 in c:\\users\\sum_c\\anaconda3\\envs\\py3_env\\lib\\site-packages (from pydantic<3.0.0,>=2.7.4->langchain-core) (0.7.0)\n",
      "Requirement already satisfied: pydantic-core==2.27.2 in c:\\users\\sum_c\\anaconda3\\envs\\py3_env\\lib\\site-packages (from pydantic<3.0.0,>=2.7.4->langchain-core) (2.27.2)\n",
      "Collecting python-dotenv>=0.21.0 (from pydantic-settings<3.0.0,>=2.4.0->langchain-community)\n",
      "  Downloading python_dotenv-1.0.1-py3-none-any.whl.metadata (23 kB)\n",
      "Requirement already satisfied: charset-normalizer<4,>=2 in c:\\users\\sum_c\\anaconda3\\envs\\py3_env\\lib\\site-packages (from requests<3,>=2->langchain-community) (3.4.1)\n",
      "Requirement already satisfied: idna<4,>=2.5 in c:\\users\\sum_c\\anaconda3\\envs\\py3_env\\lib\\site-packages (from requests<3,>=2->langchain-community) (3.10)\n",
      "Requirement already satisfied: urllib3<3,>=1.21.1 in c:\\users\\sum_c\\anaconda3\\envs\\py3_env\\lib\\site-packages (from requests<3,>=2->langchain-community) (2.3.0)\n",
      "Requirement already satisfied: certifi>=2017.4.17 in c:\\users\\sum_c\\anaconda3\\envs\\py3_env\\lib\\site-packages (from requests<3,>=2->langchain-community) (2025.1.31)\n",
      "Requirement already satisfied: greenlet!=0.4.17 in c:\\users\\sum_c\\anaconda3\\envs\\py3_env\\lib\\site-packages (from SQLAlchemy<3,>=1.4->langchain-community) (3.1.1)\n",
      "Requirement already satisfied: anyio in c:\\users\\sum_c\\anaconda3\\envs\\py3_env\\lib\\site-packages (from httpx<1,>=0.23.0->langsmith<0.4,>=0.1.125->langchain-community) (4.8.0)\n",
      "Requirement already satisfied: httpcore==1.* in c:\\users\\sum_c\\anaconda3\\envs\\py3_env\\lib\\site-packages (from httpx<1,>=0.23.0->langsmith<0.4,>=0.1.125->langchain-community) (1.0.7)\n",
      "Requirement already satisfied: h11<0.15,>=0.13 in c:\\users\\sum_c\\anaconda3\\envs\\py3_env\\lib\\site-packages (from httpcore==1.*->httpx<1,>=0.23.0->langsmith<0.4,>=0.1.125->langchain-community) (0.14.0)\n",
      "Collecting mypy-extensions>=0.3.0 (from typing-inspect<1,>=0.4.0->dataclasses-json<0.7,>=0.5.7->langchain-community)\n",
      "  Downloading mypy_extensions-1.0.0-py3-none-any.whl.metadata (1.1 kB)\n",
      "Requirement already satisfied: sniffio>=1.1 in c:\\users\\sum_c\\anaconda3\\envs\\py3_env\\lib\\site-packages (from anyio->httpx<1,>=0.23.0->langsmith<0.4,>=0.1.125->langchain-community) (1.3.1)\n",
      "Downloading langchain_community-0.3.17-py3-none-any.whl (2.5 MB)\n",
      "   ---------------------------------------- 0.0/2.5 MB ? eta -:--:--\n",
      "   ---------------------------------------- 2.5/2.5 MB 18.5 MB/s eta 0:00:00\n",
      "Downloading dataclasses_json-0.6.7-py3-none-any.whl (28 kB)\n",
      "Downloading httpx_sse-0.4.0-py3-none-any.whl (7.8 kB)\n",
      "Downloading pydantic_settings-2.7.1-py3-none-any.whl (29 kB)\n",
      "Downloading marshmallow-3.26.1-py3-none-any.whl (50 kB)\n",
      "Downloading python_dotenv-1.0.1-py3-none-any.whl (19 kB)\n",
      "Downloading typing_inspect-0.9.0-py3-none-any.whl (8.8 kB)\n",
      "Downloading mypy_extensions-1.0.0-py3-none-any.whl (4.7 kB)\n",
      "Installing collected packages: python-dotenv, mypy-extensions, marshmallow, httpx-sse, typing-inspect, pydantic-settings, dataclasses-json, langchain-community\n",
      "Successfully installed dataclasses-json-0.6.7 httpx-sse-0.4.0 langchain-community-0.3.17 marshmallow-3.26.1 mypy-extensions-1.0.0 pydantic-settings-2.7.1 python-dotenv-1.0.1 typing-inspect-0.9.0\n",
      "Note: you may need to restart the kernel to use updated packages.\n"
     ]
    }
   ],
   "source": [
    "pip install langchain-community langchain-core"
   ]
  },
  {
   "cell_type": "code",
   "execution_count": 2,
   "id": "1e9bab19-2ba4-4a80-8547-16539460f4c7",
   "metadata": {},
   "outputs": [
    {
     "name": "stdout",
     "output_type": "stream",
     "text": [
      "Collecting pandas\n",
      "  Downloading pandas-2.2.3-cp313-cp313-win_amd64.whl.metadata (19 kB)\n",
      "Requirement already satisfied: numpy>=1.26.0 in c:\\users\\sum_c\\anaconda3\\envs\\py3_env\\lib\\site-packages (from pandas) (2.2.3)\n",
      "Requirement already satisfied: python-dateutil>=2.8.2 in c:\\users\\sum_c\\anaconda3\\envs\\py3_env\\lib\\site-packages (from pandas) (2.9.0.post0)\n",
      "Collecting pytz>=2020.1 (from pandas)\n",
      "  Downloading pytz-2025.1-py2.py3-none-any.whl.metadata (22 kB)\n",
      "Collecting tzdata>=2022.7 (from pandas)\n",
      "  Downloading tzdata-2025.1-py2.py3-none-any.whl.metadata (1.4 kB)\n",
      "Requirement already satisfied: six>=1.5 in c:\\users\\sum_c\\anaconda3\\envs\\py3_env\\lib\\site-packages (from python-dateutil>=2.8.2->pandas) (1.17.0)\n",
      "Downloading pandas-2.2.3-cp313-cp313-win_amd64.whl (11.5 MB)\n",
      "   ---------------------------------------- 0.0/11.5 MB ? eta -:--:--\n",
      "   ----------------- ---------------------- 5.0/11.5 MB 28.6 MB/s eta 0:00:01\n",
      "   ---------------------------------------  11.3/11.5 MB 29.9 MB/s eta 0:00:01\n",
      "   ---------------------------------------- 11.5/11.5 MB 28.1 MB/s eta 0:00:00\n",
      "Downloading pytz-2025.1-py2.py3-none-any.whl (507 kB)\n",
      "Downloading tzdata-2025.1-py2.py3-none-any.whl (346 kB)\n",
      "Installing collected packages: pytz, tzdata, pandas\n",
      "Successfully installed pandas-2.2.3 pytz-2025.1 tzdata-2025.1\n",
      "Note: you may need to restart the kernel to use updated packages.\n"
     ]
    }
   ],
   "source": [
    "pip install pandas"
   ]
  },
  {
   "cell_type": "code",
   "execution_count": 2,
   "id": "62bd7463-63d8-4463-a052-11453e5fbf67",
   "metadata": {},
   "outputs": [
    {
     "name": "stdout",
     "output_type": "stream",
     "text": [
      "Collecting lancedb\n",
      "  Downloading lancedb-0.19.0-cp39-abi3-win_amd64.whl.metadata (4.1 kB)\n",
      "Collecting deprecation (from lancedb)\n",
      "  Downloading deprecation-2.1.0-py2.py3-none-any.whl.metadata (4.6 kB)\n",
      "Collecting pylance==0.23.0 (from lancedb)\n",
      "  Downloading pylance-0.23.0-cp39-abi3-win_amd64.whl.metadata (7.4 kB)\n",
      "Requirement already satisfied: tqdm>=4.27.0 in c:\\users\\sum_c\\anaconda3\\envs\\py3_env\\lib\\site-packages (from lancedb) (4.67.1)\n",
      "Requirement already satisfied: pydantic>=1.10 in c:\\users\\sum_c\\anaconda3\\envs\\py3_env\\lib\\site-packages (from lancedb) (2.10.6)\n",
      "Requirement already satisfied: packaging in c:\\users\\sum_c\\anaconda3\\envs\\py3_env\\lib\\site-packages (from lancedb) (24.2)\n",
      "Requirement already satisfied: overrides>=0.7 in c:\\users\\sum_c\\anaconda3\\envs\\py3_env\\lib\\site-packages (from lancedb) (7.7.0)\n",
      "Collecting pyarrow>=14 (from pylance==0.23.0->lancedb)\n",
      "  Downloading pyarrow-19.0.0-cp313-cp313-win_amd64.whl.metadata (3.4 kB)\n",
      "Requirement already satisfied: numpy>=1.22 in c:\\users\\sum_c\\anaconda3\\envs\\py3_env\\lib\\site-packages (from pylance==0.23.0->lancedb) (2.2.3)\n",
      "Requirement already satisfied: annotated-types>=0.6.0 in c:\\users\\sum_c\\anaconda3\\envs\\py3_env\\lib\\site-packages (from pydantic>=1.10->lancedb) (0.7.0)\n",
      "Requirement already satisfied: pydantic-core==2.27.2 in c:\\users\\sum_c\\anaconda3\\envs\\py3_env\\lib\\site-packages (from pydantic>=1.10->lancedb) (2.27.2)\n",
      "Requirement already satisfied: typing-extensions>=4.12.2 in c:\\users\\sum_c\\anaconda3\\envs\\py3_env\\lib\\site-packages (from pydantic>=1.10->lancedb) (4.12.2)\n",
      "Requirement already satisfied: colorama in c:\\users\\sum_c\\anaconda3\\envs\\py3_env\\lib\\site-packages (from tqdm>=4.27.0->lancedb) (0.4.6)\n",
      "Downloading lancedb-0.19.0-cp39-abi3-win_amd64.whl (30.0 MB)\n",
      "   ---------------------------------------- 0.0/30.0 MB ? eta -:--:--\n",
      "   ------ --------------------------------- 5.2/30.0 MB 27.7 MB/s eta 0:00:01\n",
      "   -------------- ------------------------- 11.0/30.0 MB 27.3 MB/s eta 0:00:01\n",
      "   ---------------------- ----------------- 16.5/30.0 MB 27.4 MB/s eta 0:00:01\n",
      "   ----------------------------- ---------- 22.0/30.0 MB 27.2 MB/s eta 0:00:01\n",
      "   ------------------------------------- -- 28.3/30.0 MB 27.6 MB/s eta 0:00:01\n",
      "   ---------------------------------------- 30.0/30.0 MB 25.9 MB/s eta 0:00:00\n",
      "Downloading pylance-0.23.0-cp39-abi3-win_amd64.whl (34.7 MB)\n",
      "   ---------------------------------------- 0.0/34.7 MB ? eta -:--:--\n",
      "   ------- -------------------------------- 6.3/34.7 MB 30.2 MB/s eta 0:00:01\n",
      "   ------------- -------------------------- 11.8/34.7 MB 28.4 MB/s eta 0:00:01\n",
      "   -------------------- ------------------- 17.6/34.7 MB 28.0 MB/s eta 0:00:01\n",
      "   --------------------------- ------------ 23.9/34.7 MB 28.3 MB/s eta 0:00:01\n",
      "   --------------------------------- ------ 29.1/34.7 MB 28.0 MB/s eta 0:00:01\n",
      "   ---------------------------------------  34.6/34.7 MB 27.8 MB/s eta 0:00:01\n",
      "   ---------------------------------------- 34.7/34.7 MB 26.6 MB/s eta 0:00:00\n",
      "Downloading deprecation-2.1.0-py2.py3-none-any.whl (11 kB)\n",
      "Downloading pyarrow-19.0.0-cp313-cp313-win_amd64.whl (25.2 MB)\n",
      "   ---------------------------------------- 0.0/25.2 MB ? eta -:--:--\n",
      "   --------- ------------------------------ 5.8/25.2 MB 28.9 MB/s eta 0:00:01\n",
      "   ----------------- ---------------------- 10.7/25.2 MB 26.8 MB/s eta 0:00:01\n",
      "   -------------------------- ------------- 16.8/25.2 MB 27.5 MB/s eta 0:00:01\n",
      "   --------------------------------- ------ 21.2/25.2 MB 25.9 MB/s eta 0:00:01\n",
      "   ---------------------------------------  25.2/25.2 MB 25.8 MB/s eta 0:00:01\n",
      "   ---------------------------------------- 25.2/25.2 MB 24.4 MB/s eta 0:00:00\n",
      "Installing collected packages: pyarrow, deprecation, pylance, lancedb\n",
      "Successfully installed deprecation-2.1.0 lancedb-0.19.0 pyarrow-19.0.0 pylance-0.23.0\n",
      "Note: you may need to restart the kernel to use updated packages.\n"
     ]
    }
   ],
   "source": [
    "pip install lancedb"
   ]
  },
  {
   "cell_type": "markdown",
   "id": "4cd8ed85-357c-4ef8-a181-a5f6f967e41a",
   "metadata": {},
   "source": [
    "## Imports"
   ]
  },
  {
   "cell_type": "code",
   "execution_count": 1,
   "id": "597ade4d-f29a-43d2-a013-2874fc57cd73",
   "metadata": {},
   "outputs": [],
   "source": [
    "from langchain.chat_models import ChatOpenAI\n",
    "from langchain.schema import AIMessage,HumanMessage,SystemMessage,FunctionMessage\n",
    "\n",
    "\n",
    "import json\n",
    "import pandas as pd\n",
    "import lancedb\n",
    "from lancedb.pydantic import Vector,LanceModel\n",
    "from lancedb.embeddings import get_registry\n",
    "from langchain.output_parsers import ResponseSchema, StructuredOutputParser\n",
    "from langchain.prompts import ChatPromptTemplate\n",
    "import openai"
   ]
  },
  {
   "cell_type": "code",
   "execution_count": 2,
   "id": "bf4590d8-c4d1-49c4-9e06-a32f43ad4ce6",
   "metadata": {},
   "outputs": [],
   "source": [
    "import os\n",
    "\n",
    "os.environ[\"OPENAI_API_KEY\"] = \"xxxx\"\n",
    "openai.api_key = os.getenv(\"OPENAI_API_KEY\")\n"
   ]
  },
  {
   "cell_type": "markdown",
   "id": "0b29509c-bbe8-4184-9093-96b409a1037c",
   "metadata": {},
   "source": [
    "## Generate Real Estate listings using Langchain"
   ]
  },
  {
   "cell_type": "code",
   "execution_count": 3,
   "id": "12bf5c21-9c60-4093-8f3a-e114557467ae",
   "metadata": {},
   "outputs": [
    {
     "name": "stderr",
     "output_type": "stream",
     "text": [
      "C:\\Users\\sum_c\\AppData\\Local\\Temp\\ipykernel_13804\\3291166894.py:1: LangChainDeprecationWarning: The class `ChatOpenAI` was deprecated in LangChain 0.0.10 and will be removed in 1.0. An updated version of the class exists in the :class:`~langchain-openai package and should be used instead. To use it run `pip install -U :class:`~langchain-openai` and import as `from :class:`~langchain_openai import ChatOpenAI``.\n",
      "  chat_llm = ChatOpenAI(temperature=1)\n"
     ]
    }
   ],
   "source": [
    "chat_llm = ChatOpenAI(temperature=1)"
   ]
  },
  {
   "cell_type": "code",
   "execution_count": 4,
   "id": "750f4282-aab8-4778-981e-d3288dc98eda",
   "metadata": {},
   "outputs": [],
   "source": [
    "system_prompt = \"You are a real estate agent in the city of Los Angeles in USA\"\n",
    "human_prompt = \"\"\"Generate at least 7 real estate listings across different counties using your imagination. The listings must be\n",
    "in a JSON array of dictionaries with each item in the following format:\n",
    "{\n",
    " \\\"bds\\\":3,\n",
    " \\\"ba\\\":2,\n",
    " \\\"sqft\\\":1500,\n",
    " \\\"price\":1000000,\n",
    " \\\"location\\\":\\\"North Hollywood\\\",\n",
    " \\\"school_rating\\\":3.8,\n",
    " \\\"description\\\":\\\"Welcome to this eco-friendly oasis nestled in the heart of Green Oaks. This charming 3-bedroom, 2-bathroom home boasts energy-efficient features such as solar panels and a well-insulated structure. Natural light floods the living spaces, highlighting the beautiful hardwood floors and eco-conscious finishes. The open-concept kitchen and dining area lead to a spacious backyard with a vegetable garden, perfect for the eco-conscious family. Embrace sustainable living without compromising on style in this Green Oaks gem.\\\"\n",
    " \\\"neighborhood_description\\\": \\\"Green Oaks is a close-knit, environmentally-conscious community with access to organic grocery stores, community gardens, and bike paths. Take a stroll through the nearby Green Oaks Park or grab a cup of coffee at the cozy Green Bean Cafe. With easy access to public transportation and bike lanes, commuting is a breeze.\n",
    "}\"\"\""
   ]
  },
  {
   "cell_type": "code",
   "execution_count": 6,
   "id": "8640b72a-0955-4c9b-bc53-6441898c7b3e",
   "metadata": {},
   "outputs": [],
   "source": [
    "messages = [\n",
    "    SystemMessage(content=system_prompt),\n",
    "    HumanMessage(content=human_prompt)\n",
    "]\n",
    "#json_llm = chat_llm.bind(response_format={\"type\":\"json_object\"})"
   ]
  },
  {
   "cell_type": "code",
   "execution_count": 7,
   "id": "226f3e0a-36d6-44a6-bc14-170d5d770127",
   "metadata": {},
   "outputs": [
    {
     "data": {
      "text/plain": [
       "AIMessage(content='```json\\n[\\n  {\\n    \"bds\": 4,\\n    \"ba\": 3,\\n    \"sqft\": 2500,\\n    \"price\": 1500000,\\n    \"location\": \"Beverly Hills\",\\n    \"school_rating\": 4.5,\\n    \"description\": \"Luxurious living awaits you in this stunning 4-bedroom, 3-bathroom estate in the prestigious Beverly Hills neighborhood. With high-end finishes throughout, this home features a gourmet kitchen, spacious bedrooms, and a beautifully landscaped backyard with a sparkling pool. Enjoy the ultimate in California luxury living in this Beverly Hills gem.\",\\n    \"neighborhood_description\": \"Beverly Hills is known for its upscale shopping, dining, and entertainment options. Explore the nearby Rodeo Drive for designer boutiques or dine at world-class restaurants. Experience the glamour and sophistication of Beverly Hills living.\"\\n  },\\n  {\\n    \"bds\": 2,\\n    \"ba\": 1,\\n    \"sqft\": 1200,\\n    \"price\": 800000,\\n    \"location\": \"Santa Monica\",\\n    \"school_rating\": 4.2,\\n    \"description\": \"Live the beach life in this charming 2-bedroom, 1-bathroom bungalow located just blocks from the sandy shores of Santa Monica. This cozy home features a bright and airy interior, a private outdoor patio, and easy access to the vibrant Santa Monica Pier and Third Street Promenade. Embrace coastal living in this Santa Monica getaway.\",\\n    \"neighborhood_description\": \"Santa Monica offers a laid-back coastal lifestyle with a variety of dining, shopping, and outdoor activities. Walk or bike along the beachfront path, explore the Santa Monica Farmers Market, or catch a sunset at the iconic Santa Monica Pier.\"\\n  },\\n  {\\n    \"bds\": 5,\\n    \"ba\": 4,\\n    \"sqft\": 3500,\\n    \"price\": 2000000,\\n    \"location\": \"Malibu\",\\n    \"school_rating\": 4.8,\\n    \"description\": \"Escape to paradise in this exquisite 5-bedroom, 4-bathroom Malibu retreat with breathtaking ocean views. The elegant interiors feature high ceilings, designer finishes, and a gourmet kitchen. Step outside to a serene outdoor oasis with a spa, fire pit, and lush landscaping, perfect for entertaining or relaxing in style.\",\\n    \"neighborhood_description\": \"Malibu is known for its stunning beaches, celebrity homes, and upscale lifestyle. Enjoy surfing, hiking, or dining at world-class restaurants along the picturesque Pacific Coast Highway.\"\\n  },\\n  {\\n    \"bds\": 3,\\n    \"ba\": 2,\\n    \"sqft\": 1800,\\n    \"price\": 1200000,\\n    \"location\": \"Venice Beach\",\\n    \"school_rating\": 4.0,\\n    \"description\": \"Experience Venice Beach living in this modern 3-bedroom, 2-bathroom home just steps from the iconic Venice Boardwalk. This sleek residence boasts sleek design elements, an open floor plan, and a rooftop deck with ocean views. Embrace the vibrant energy of Venice Beach in this stylish coastal retreat.\",\\n    \"neighborhood_description\": \"Venice Beach is a bohemian enclave known for its eclectic mix of artists, musicians, and outdoor enthusiasts. Explore the local artisan shops, grab a bite to eat at a trendy cafe, or immerse yourself in the creative scene along the Venice Boardwalk.\"\\n  },\\n  {\\n    \"bds\": 4,\\n    \"ba\": 3,\\n    \"sqft\": 2200,\\n    \"price\": 1300000,\\n    \"location\": \"Pasadena\",\\n    \"school_rating\": 4.3,\\n    \"description\": \"Nestled in the historic city of Pasadena, this charming 4-bedroom, 3-bathroom home exudes classic California charm. Featuring a spacious living room, formal dining area, and a backyard oasis with a pergola-covered patio, this home is perfect for indoor-outdoor living. Enjoy the beauty and tranquility of Pasadena living in this lovely residence.\",\\n    \"neighborhood_description\": \"Pasadena is known for its tree-lined streets, historic architecture, and cultural attractions. Visit the renowned Norton Simon Museum, explore the beautiful gardens of the Huntington Library, or stroll through Old Town Pasadena for shopping and dining.\"\\n  },\\n  {\\n    \"bds\": 3,\\n    \"ba\": 2,\\n    \"sqft\": 1600,\\n    \"price\": 950000,\\n    \"location\": \"Silver Lake\",\\n    \"school_rating\": 3.9,\\n    \"description\": \"Situated in the trendy neighborhood of Silver Lake, this stylish 3-bedroom, 2-bathroom home offers modern living in a vibrant community. The open-concept floor plan features high ceilings, a chef\\'s kitchen, and a private backyard oasis. Enjoy the hip and eclectic ambiance of Silver Lake in this contemporary residence.\",\\n    \"neighborhood_description\": \"Silver Lake is known for its artistic vibe, trendy eateries, and picturesque reservoir. Explore the local boutiques, grab a coffee at a cozy cafe, or take a scenic hike around the iconic Silver Lake Reservoir.\"\\n  },\\n  {\\n    \"bds\": 2,\\n    \"ba\": 2,\\n    \"sqft\": 1400,\\n    \"price\": 750000,\\n    \"location\": \"West Hollywood\",\\n    \"school_rating\": 4.1,\\n    \"description\": \"Live the West Hollywood lifestyle in this 2-bedroom, 2-bathroom condo located in the heart of the Sunset Strip. The unit features a modern design, sleek finishes, and a spacious balcony with city views. Experience the vibrant energy and nightlife of West Hollywood in this chic urban retreat.\",\\n    \"neighborhood_description\": \"West Hollywood is a trendy neighborhood known for its nightlife, dining, and entertainment options. Stroll along the Sunset Strip, dine at celebrity hotspots, or shop at upscale boutiques on Melrose Avenue.\"\\n  }\\n]\\n```', additional_kwargs={}, response_metadata={'token_usage': {'completion_tokens': 1233, 'prompt_tokens': 267, 'total_tokens': 1500, 'completion_tokens_details': {'accepted_prediction_tokens': 0, 'audio_tokens': 0, 'reasoning_tokens': 0, 'rejected_prediction_tokens': 0}, 'prompt_tokens_details': {'audio_tokens': 0, 'cached_tokens': 0}}, 'model_name': 'gpt-3.5-turbo', 'system_fingerprint': None, 'finish_reason': 'stop', 'logprobs': None}, id='run-5bb1d7e9-6c47-4ab6-9773-26c1c93ab006-0')"
      ]
     },
     "execution_count": 7,
     "metadata": {},
     "output_type": "execute_result"
    }
   ],
   "source": [
    "realestate_listings = chat_llm.invoke(messages)\n",
    "realestate_listings"
   ]
  },
  {
   "cell_type": "code",
   "execution_count": 8,
   "id": "934b91b4-dbf6-4e27-b3ae-b1ee83d550b3",
   "metadata": {},
   "outputs": [
    {
     "name": "stdout",
     "output_type": "stream",
     "text": [
      "```json\n",
      "[\n",
      "  {\n",
      "    \"bds\": 4,\n",
      "    \"ba\": 3,\n",
      "    \"sqft\": 2500,\n",
      "    \"price\": 1500000,\n",
      "    \"location\": \"Beverly Hills\",\n",
      "    \"school_rating\": 4.5,\n",
      "    \"description\": \"Luxurious living awaits you in this stunning 4-bedroom, 3-bathroom estate in the prestigious Beverly Hills neighborhood. With high-end finishes throughout, this home features a gourmet kitchen, spacious bedrooms, and a beautifully landscaped backyard with a sparkling pool. Enjoy the ultimate in California luxury living in this Beverly Hills gem.\",\n",
      "    \"neighborhood_description\": \"Beverly Hills is known for its upscale shopping, dining, and entertainment options. Explore the nearby Rodeo Drive for designer boutiques or dine at world-class restaurants. Experience the glamour and sophistication of Beverly Hills living.\"\n",
      "  },\n",
      "  {\n",
      "    \"bds\": 2,\n",
      "    \"ba\": 1,\n",
      "    \"sqft\": 1200,\n",
      "    \"price\": 800000,\n",
      "    \"location\": \"Santa Monica\",\n",
      "    \"school_rating\": 4.2,\n",
      "    \"description\": \"Live the beach life in this charming 2-bedroom, 1-bathroom bungalow located just blocks from the sandy shores of Santa Monica. This cozy home features a bright and airy interior, a private outdoor patio, and easy access to the vibrant Santa Monica Pier and Third Street Promenade. Embrace coastal living in this Santa Monica getaway.\",\n",
      "    \"neighborhood_description\": \"Santa Monica offers a laid-back coastal lifestyle with a variety of dining, shopping, and outdoor activities. Walk or bike along the beachfront path, explore the Santa Monica Farmers Market, or catch a sunset at the iconic Santa Monica Pier.\"\n",
      "  },\n",
      "  {\n",
      "    \"bds\": 5,\n",
      "    \"ba\": 4,\n",
      "    \"sqft\": 3500,\n",
      "    \"price\": 2000000,\n",
      "    \"location\": \"Malibu\",\n",
      "    \"school_rating\": 4.8,\n",
      "    \"description\": \"Escape to paradise in this exquisite 5-bedroom, 4-bathroom Malibu retreat with breathtaking ocean views. The elegant interiors feature high ceilings, designer finishes, and a gourmet kitchen. Step outside to a serene outdoor oasis with a spa, fire pit, and lush landscaping, perfect for entertaining or relaxing in style.\",\n",
      "    \"neighborhood_description\": \"Malibu is known for its stunning beaches, celebrity homes, and upscale lifestyle. Enjoy surfing, hiking, or dining at world-class restaurants along the picturesque Pacific Coast Highway.\"\n",
      "  },\n",
      "  {\n",
      "    \"bds\": 3,\n",
      "    \"ba\": 2,\n",
      "    \"sqft\": 1800,\n",
      "    \"price\": 1200000,\n",
      "    \"location\": \"Venice Beach\",\n",
      "    \"school_rating\": 4.0,\n",
      "    \"description\": \"Experience Venice Beach living in this modern 3-bedroom, 2-bathroom home just steps from the iconic Venice Boardwalk. This sleek residence boasts sleek design elements, an open floor plan, and a rooftop deck with ocean views. Embrace the vibrant energy of Venice Beach in this stylish coastal retreat.\",\n",
      "    \"neighborhood_description\": \"Venice Beach is a bohemian enclave known for its eclectic mix of artists, musicians, and outdoor enthusiasts. Explore the local artisan shops, grab a bite to eat at a trendy cafe, or immerse yourself in the creative scene along the Venice Boardwalk.\"\n",
      "  },\n",
      "  {\n",
      "    \"bds\": 4,\n",
      "    \"ba\": 3,\n",
      "    \"sqft\": 2200,\n",
      "    \"price\": 1300000,\n",
      "    \"location\": \"Pasadena\",\n",
      "    \"school_rating\": 4.3,\n",
      "    \"description\": \"Nestled in the historic city of Pasadena, this charming 4-bedroom, 3-bathroom home exudes classic California charm. Featuring a spacious living room, formal dining area, and a backyard oasis with a pergola-covered patio, this home is perfect for indoor-outdoor living. Enjoy the beauty and tranquility of Pasadena living in this lovely residence.\",\n",
      "    \"neighborhood_description\": \"Pasadena is known for its tree-lined streets, historic architecture, and cultural attractions. Visit the renowned Norton Simon Museum, explore the beautiful gardens of the Huntington Library, or stroll through Old Town Pasadena for shopping and dining.\"\n",
      "  },\n",
      "  {\n",
      "    \"bds\": 3,\n",
      "    \"ba\": 2,\n",
      "    \"sqft\": 1600,\n",
      "    \"price\": 950000,\n",
      "    \"location\": \"Silver Lake\",\n",
      "    \"school_rating\": 3.9,\n",
      "    \"description\": \"Situated in the trendy neighborhood of Silver Lake, this stylish 3-bedroom, 2-bathroom home offers modern living in a vibrant community. The open-concept floor plan features high ceilings, a chef's kitchen, and a private backyard oasis. Enjoy the hip and eclectic ambiance of Silver Lake in this contemporary residence.\",\n",
      "    \"neighborhood_description\": \"Silver Lake is known for its artistic vibe, trendy eateries, and picturesque reservoir. Explore the local boutiques, grab a coffee at a cozy cafe, or take a scenic hike around the iconic Silver Lake Reservoir.\"\n",
      "  },\n",
      "  {\n",
      "    \"bds\": 2,\n",
      "    \"ba\": 2,\n",
      "    \"sqft\": 1400,\n",
      "    \"price\": 750000,\n",
      "    \"location\": \"West Hollywood\",\n",
      "    \"school_rating\": 4.1,\n",
      "    \"description\": \"Live the West Hollywood lifestyle in this 2-bedroom, 2-bathroom condo located in the heart of the Sunset Strip. The unit features a modern design, sleek finishes, and a spacious balcony with city views. Experience the vibrant energy and nightlife of West Hollywood in this chic urban retreat.\",\n",
      "    \"neighborhood_description\": \"West Hollywood is a trendy neighborhood known for its nightlife, dining, and entertainment options. Stroll along the Sunset Strip, dine at celebrity hotspots, or shop at upscale boutiques on Melrose Avenue.\"\n",
      "  }\n",
      "]\n",
      "```\n"
     ]
    },
    {
     "name": "stderr",
     "output_type": "stream",
     "text": [
      "C:\\Users\\sum_c\\AppData\\Local\\Temp\\ipykernel_13804\\2702594770.py:1: PydanticDeprecatedSince20: The `json` method is deprecated; use `model_dump_json` instead. Deprecated in Pydantic V2.0 to be removed in V3.0. See Pydantic V2 Migration Guide at https://errors.pydantic.dev/2.10/migration/\n",
      "  realestates_json = json.loads(realestate_listings.json())[\"content\"]\n"
     ]
    }
   ],
   "source": [
    "realestates_json = json.loads(realestate_listings.json())[\"content\"]\n",
    "print(realestates_json)"
   ]
  },
  {
   "cell_type": "code",
   "execution_count": 9,
   "id": "7862a9bb-b4e0-434d-90cf-8485c407ce5f",
   "metadata": {},
   "outputs": [
    {
     "name": "stdout",
     "output_type": "stream",
     "text": [
      "\n",
      "[\n",
      "  {\n",
      "    \"bds\": 4,\n",
      "    \"ba\": 3,\n",
      "    \"sqft\": 2500,\n",
      "    \"price\": 1500000,\n",
      "    \"location\": \"Beverly Hills\",\n",
      "    \"school_rating\": 4.5,\n",
      "    \"description\": \"Luxurious living awaits you in this stunning 4-bedroom, 3-bathroom estate in the prestigious Beverly Hills neighborhood. With high-end finishes throughout, this home features a gourmet kitchen, spacious bedrooms, and a beautifully landscaped backyard with a sparkling pool. Enjoy the ultimate in California luxury living in this Beverly Hills gem.\",\n",
      "    \"neighborhood_description\": \"Beverly Hills is known for its upscale shopping, dining, and entertainment options. Explore the nearby Rodeo Drive for designer boutiques or dine at world-class restaurants. Experience the glamour and sophistication of Beverly Hills living.\"\n",
      "  },\n",
      "  {\n",
      "    \"bds\": 2,\n",
      "    \"ba\": 1,\n",
      "    \"sqft\": 1200,\n",
      "    \"price\": 800000,\n",
      "    \"location\": \"Santa Monica\",\n",
      "    \"school_rating\": 4.2,\n",
      "    \"description\": \"Live the beach life in this charming 2-bedroom, 1-bathroom bungalow located just blocks from the sandy shores of Santa Monica. This cozy home features a bright and airy interior, a private outdoor patio, and easy access to the vibrant Santa Monica Pier and Third Street Promenade. Embrace coastal living in this Santa Monica getaway.\",\n",
      "    \"neighborhood_description\": \"Santa Monica offers a laid-back coastal lifestyle with a variety of dining, shopping, and outdoor activities. Walk or bike along the beachfront path, explore the Santa Monica Farmers Market, or catch a sunset at the iconic Santa Monica Pier.\"\n",
      "  },\n",
      "  {\n",
      "    \"bds\": 5,\n",
      "    \"ba\": 4,\n",
      "    \"sqft\": 3500,\n",
      "    \"price\": 2000000,\n",
      "    \"location\": \"Malibu\",\n",
      "    \"school_rating\": 4.8,\n",
      "    \"description\": \"Escape to paradise in this exquisite 5-bedroom, 4-bathroom Malibu retreat with breathtaking ocean views. The elegant interiors feature high ceilings, designer finishes, and a gourmet kitchen. Step outside to a serene outdoor oasis with a spa, fire pit, and lush landscaping, perfect for entertaining or relaxing in style.\",\n",
      "    \"neighborhood_description\": \"Malibu is known for its stunning beaches, celebrity homes, and upscale lifestyle. Enjoy surfing, hiking, or dining at world-class restaurants along the picturesque Pacific Coast Highway.\"\n",
      "  },\n",
      "  {\n",
      "    \"bds\": 3,\n",
      "    \"ba\": 2,\n",
      "    \"sqft\": 1800,\n",
      "    \"price\": 1200000,\n",
      "    \"location\": \"Venice Beach\",\n",
      "    \"school_rating\": 4.0,\n",
      "    \"description\": \"Experience Venice Beach living in this modern 3-bedroom, 2-bathroom home just steps from the iconic Venice Boardwalk. This sleek residence boasts sleek design elements, an open floor plan, and a rooftop deck with ocean views. Embrace the vibrant energy of Venice Beach in this stylish coastal retreat.\",\n",
      "    \"neighborhood_description\": \"Venice Beach is a bohemian enclave known for its eclectic mix of artists, musicians, and outdoor enthusiasts. Explore the local artisan shops, grab a bite to eat at a trendy cafe, or immerse yourself in the creative scene along the Venice Boardwalk.\"\n",
      "  },\n",
      "  {\n",
      "    \"bds\": 4,\n",
      "    \"ba\": 3,\n",
      "    \"sqft\": 2200,\n",
      "    \"price\": 1300000,\n",
      "    \"location\": \"Pasadena\",\n",
      "    \"school_rating\": 4.3,\n",
      "    \"description\": \"Nestled in the historic city of Pasadena, this charming 4-bedroom, 3-bathroom home exudes classic California charm. Featuring a spacious living room, formal dining area, and a backyard oasis with a pergola-covered patio, this home is perfect for indoor-outdoor living. Enjoy the beauty and tranquility of Pasadena living in this lovely residence.\",\n",
      "    \"neighborhood_description\": \"Pasadena is known for its tree-lined streets, historic architecture, and cultural attractions. Visit the renowned Norton Simon Museum, explore the beautiful gardens of the Huntington Library, or stroll through Old Town Pasadena for shopping and dining.\"\n",
      "  },\n",
      "  {\n",
      "    \"bds\": 3,\n",
      "    \"ba\": 2,\n",
      "    \"sqft\": 1600,\n",
      "    \"price\": 950000,\n",
      "    \"location\": \"Silver Lake\",\n",
      "    \"school_rating\": 3.9,\n",
      "    \"description\": \"Situated in the trendy neighborhood of Silver Lake, this stylish 3-bedroom, 2-bathroom home offers modern living in a vibrant community. The open-concept floor plan features high ceilings, a chef's kitchen, and a private backyard oasis. Enjoy the hip and eclectic ambiance of Silver Lake in this contemporary residence.\",\n",
      "    \"neighborhood_description\": \"Silver Lake is known for its artistic vibe, trendy eateries, and picturesque reservoir. Explore the local boutiques, grab a coffee at a cozy cafe, or take a scenic hike around the iconic Silver Lake Reservoir.\"\n",
      "  },\n",
      "  {\n",
      "    \"bds\": 2,\n",
      "    \"ba\": 2,\n",
      "    \"sqft\": 1400,\n",
      "    \"price\": 750000,\n",
      "    \"location\": \"West Hollywood\",\n",
      "    \"school_rating\": 4.1,\n",
      "    \"description\": \"Live the West Hollywood lifestyle in this 2-bedroom, 2-bathroom condo located in the heart of the Sunset Strip. The unit features a modern design, sleek finishes, and a spacious balcony with city views. Experience the vibrant energy and nightlife of West Hollywood in this chic urban retreat.\",\n",
      "    \"neighborhood_description\": \"West Hollywood is a trendy neighborhood known for its nightlife, dining, and entertainment options. Stroll along the Sunset Strip, dine at celebrity hotspots, or shop at upscale boutiques on Melrose Avenue.\"\n",
      "  }\n",
      "]\n",
      "\n"
     ]
    }
   ],
   "source": [
    "realestates_json_processed = realestates_json.replace('json','')\n",
    "realestates_json_processed1 = realestates_json_processed.replace(\"```\",\"\")\n",
    "print(realestates_json_processed1)"
   ]
  },
  {
   "cell_type": "markdown",
   "id": "4005d678-bd40-4094-bf93-bbf3243b0052",
   "metadata": {},
   "source": [
    "## Save Listings"
   ]
  },
  {
   "cell_type": "code",
   "execution_count": 10,
   "id": "c10ebd97-6bda-4d1b-94e2-31fe5667c2f5",
   "metadata": {},
   "outputs": [],
   "source": [
    "f= open('data_json',\"w\")\n",
    "f.write(realestates_json_processed1)\n",
    "f.close()"
   ]
  },
  {
   "cell_type": "code",
   "execution_count": 11,
   "id": "ea801809-709a-449e-bc61-4bdf4fc2ba4f",
   "metadata": {},
   "outputs": [
    {
     "data": {
      "text/html": [
       "<div>\n",
       "<style scoped>\n",
       "    .dataframe tbody tr th:only-of-type {\n",
       "        vertical-align: middle;\n",
       "    }\n",
       "\n",
       "    .dataframe tbody tr th {\n",
       "        vertical-align: top;\n",
       "    }\n",
       "\n",
       "    .dataframe thead th {\n",
       "        text-align: right;\n",
       "    }\n",
       "</style>\n",
       "<table border=\"1\" class=\"dataframe\">\n",
       "  <thead>\n",
       "    <tr style=\"text-align: right;\">\n",
       "      <th></th>\n",
       "      <th>bds</th>\n",
       "      <th>ba</th>\n",
       "      <th>sqft</th>\n",
       "      <th>price</th>\n",
       "      <th>location</th>\n",
       "      <th>school_rating</th>\n",
       "      <th>description</th>\n",
       "      <th>neighborhood_description</th>\n",
       "    </tr>\n",
       "  </thead>\n",
       "  <tbody>\n",
       "    <tr>\n",
       "      <th>0</th>\n",
       "      <td>4</td>\n",
       "      <td>3</td>\n",
       "      <td>2500</td>\n",
       "      <td>1500000</td>\n",
       "      <td>Beverly Hills</td>\n",
       "      <td>4.5</td>\n",
       "      <td>Luxurious living awaits you in this stunning 4...</td>\n",
       "      <td>Beverly Hills is known for its upscale shoppin...</td>\n",
       "    </tr>\n",
       "    <tr>\n",
       "      <th>1</th>\n",
       "      <td>2</td>\n",
       "      <td>1</td>\n",
       "      <td>1200</td>\n",
       "      <td>800000</td>\n",
       "      <td>Santa Monica</td>\n",
       "      <td>4.2</td>\n",
       "      <td>Live the beach life in this charming 2-bedroom...</td>\n",
       "      <td>Santa Monica offers a laid-back coastal lifest...</td>\n",
       "    </tr>\n",
       "    <tr>\n",
       "      <th>2</th>\n",
       "      <td>5</td>\n",
       "      <td>4</td>\n",
       "      <td>3500</td>\n",
       "      <td>2000000</td>\n",
       "      <td>Malibu</td>\n",
       "      <td>4.8</td>\n",
       "      <td>Escape to paradise in this exquisite 5-bedroom...</td>\n",
       "      <td>Malibu is known for its stunning beaches, cele...</td>\n",
       "    </tr>\n",
       "    <tr>\n",
       "      <th>3</th>\n",
       "      <td>3</td>\n",
       "      <td>2</td>\n",
       "      <td>1800</td>\n",
       "      <td>1200000</td>\n",
       "      <td>Venice Beach</td>\n",
       "      <td>4.0</td>\n",
       "      <td>Experience Venice Beach living in this modern ...</td>\n",
       "      <td>Venice Beach is a bohemian enclave known for i...</td>\n",
       "    </tr>\n",
       "    <tr>\n",
       "      <th>4</th>\n",
       "      <td>4</td>\n",
       "      <td>3</td>\n",
       "      <td>2200</td>\n",
       "      <td>1300000</td>\n",
       "      <td>Pasadena</td>\n",
       "      <td>4.3</td>\n",
       "      <td>Nestled in the historic city of Pasadena, this...</td>\n",
       "      <td>Pasadena is known for its tree-lined streets, ...</td>\n",
       "    </tr>\n",
       "    <tr>\n",
       "      <th>5</th>\n",
       "      <td>3</td>\n",
       "      <td>2</td>\n",
       "      <td>1600</td>\n",
       "      <td>950000</td>\n",
       "      <td>Silver Lake</td>\n",
       "      <td>3.9</td>\n",
       "      <td>Situated in the trendy neighborhood of Silver ...</td>\n",
       "      <td>Silver Lake is known for its artistic vibe, tr...</td>\n",
       "    </tr>\n",
       "    <tr>\n",
       "      <th>6</th>\n",
       "      <td>2</td>\n",
       "      <td>2</td>\n",
       "      <td>1400</td>\n",
       "      <td>750000</td>\n",
       "      <td>West Hollywood</td>\n",
       "      <td>4.1</td>\n",
       "      <td>Live the West Hollywood lifestyle in this 2-be...</td>\n",
       "      <td>West Hollywood is a trendy neighborhood known ...</td>\n",
       "    </tr>\n",
       "  </tbody>\n",
       "</table>\n",
       "</div>"
      ],
      "text/plain": [
       "   bds  ba  sqft    price        location  school_rating  \\\n",
       "0    4   3  2500  1500000   Beverly Hills            4.5   \n",
       "1    2   1  1200   800000    Santa Monica            4.2   \n",
       "2    5   4  3500  2000000          Malibu            4.8   \n",
       "3    3   2  1800  1200000    Venice Beach            4.0   \n",
       "4    4   3  2200  1300000        Pasadena            4.3   \n",
       "5    3   2  1600   950000     Silver Lake            3.9   \n",
       "6    2   2  1400   750000  West Hollywood            4.1   \n",
       "\n",
       "                                         description  \\\n",
       "0  Luxurious living awaits you in this stunning 4...   \n",
       "1  Live the beach life in this charming 2-bedroom...   \n",
       "2  Escape to paradise in this exquisite 5-bedroom...   \n",
       "3  Experience Venice Beach living in this modern ...   \n",
       "4  Nestled in the historic city of Pasadena, this...   \n",
       "5  Situated in the trendy neighborhood of Silver ...   \n",
       "6  Live the West Hollywood lifestyle in this 2-be...   \n",
       "\n",
       "                            neighborhood_description  \n",
       "0  Beverly Hills is known for its upscale shoppin...  \n",
       "1  Santa Monica offers a laid-back coastal lifest...  \n",
       "2  Malibu is known for its stunning beaches, cele...  \n",
       "3  Venice Beach is a bohemian enclave known for i...  \n",
       "4  Pasadena is known for its tree-lined streets, ...  \n",
       "5  Silver Lake is known for its artistic vibe, tr...  \n",
       "6  West Hollywood is a trendy neighborhood known ...  "
      ]
     },
     "execution_count": 11,
     "metadata": {},
     "output_type": "execute_result"
    }
   ],
   "source": [
    "df = pd.read_json('data_json')\n",
    "df"
   ]
  },
  {
   "cell_type": "markdown",
   "id": "9465206a-b3ff-46f1-9b89-a4dd33f82f39",
   "metadata": {},
   "source": [
    "## Convert listing description to embedding"
   ]
  },
  {
   "cell_type": "code",
   "execution_count": 12,
   "id": "3eec496e-2586-49cd-8a4b-e490a7fc4c85",
   "metadata": {},
   "outputs": [],
   "source": [
    "db = lancedb.connect(\"realestatedb\")\n",
    "func = get_registry().get(\"openai\").create(name=\"text-embedding-ada-002\")"
   ]
  },
  {
   "cell_type": "code",
   "execution_count": 13,
   "id": "891bc124-5032-42a6-b852-90ed97c9e0c3",
   "metadata": {},
   "outputs": [],
   "source": [
    "class RealEstateListings(LanceModel):\n",
    "    bedrooms:int\n",
    "    bath:int\n",
    "    area:int\n",
    "    price:int\n",
    "    location:str\n",
    "    school_rating:float\n",
    "    description:str  = func.SourceField()\n",
    "    neighborhood_description:str\n",
    "    description_vector:Vector(func.ndims()) = func.VectorField()"
   ]
  },
  {
   "cell_type": "markdown",
   "id": "15b30f16-390f-4894-a35a-f6cca475bb44",
   "metadata": {},
   "source": [
    "## Save listings in LanceDb"
   ]
  },
  {
   "cell_type": "code",
   "execution_count": 14,
   "id": "e4f43ef6-794b-4fd0-a53d-7b94fd85936d",
   "metadata": {},
   "outputs": [],
   "source": [
    "table = db.create_table(\"realestatelistings\",schema=RealEstateListings,mode=\"overwrite\")\n"
   ]
  },
  {
   "cell_type": "code",
   "execution_count": 15,
   "id": "61e309d2-9a0b-466c-9024-949860c3fb3c",
   "metadata": {},
   "outputs": [],
   "source": [
    "data = df.apply(\n",
    "lambda row:{\n",
    "    \"bedrooms\":row[\"bds\"],\n",
    "    \"bath\":row[\"ba\"],\n",
    "    \"area\":row[\"sqft\"],\n",
    "    \"price\":row[\"price\"],\n",
    "    \"location\":row[\"location\"],\n",
    "    \"school_rating\":row[\"school_rating\"],\n",
    "    \"description\":row[\"description\"], \n",
    "    \"neighborhood_description\":row[\"neighborhood_description\"],    \n",
    "}, axis=1).values.tolist()"
   ]
  },
  {
   "cell_type": "code",
   "execution_count": 16,
   "id": "fb242be5-65cc-4aa1-ac44-9b72f3569f7a",
   "metadata": {},
   "outputs": [
    {
     "data": {
      "text/plain": [
       "[{'bedrooms': 4,\n",
       "  'bath': 3,\n",
       "  'area': 2500,\n",
       "  'price': 1500000,\n",
       "  'location': 'Beverly Hills',\n",
       "  'school_rating': 4.5,\n",
       "  'description': 'Luxurious living awaits you in this stunning 4-bedroom, 3-bathroom estate in the prestigious Beverly Hills neighborhood. With high-end finishes throughout, this home features a gourmet kitchen, spacious bedrooms, and a beautifully landscaped backyard with a sparkling pool. Enjoy the ultimate in California luxury living in this Beverly Hills gem.',\n",
       "  'neighborhood_description': 'Beverly Hills is known for its upscale shopping, dining, and entertainment options. Explore the nearby Rodeo Drive for designer boutiques or dine at world-class restaurants. Experience the glamour and sophistication of Beverly Hills living.'},\n",
       " {'bedrooms': 2,\n",
       "  'bath': 1,\n",
       "  'area': 1200,\n",
       "  'price': 800000,\n",
       "  'location': 'Santa Monica',\n",
       "  'school_rating': 4.2,\n",
       "  'description': 'Live the beach life in this charming 2-bedroom, 1-bathroom bungalow located just blocks from the sandy shores of Santa Monica. This cozy home features a bright and airy interior, a private outdoor patio, and easy access to the vibrant Santa Monica Pier and Third Street Promenade. Embrace coastal living in this Santa Monica getaway.',\n",
       "  'neighborhood_description': 'Santa Monica offers a laid-back coastal lifestyle with a variety of dining, shopping, and outdoor activities. Walk or bike along the beachfront path, explore the Santa Monica Farmers Market, or catch a sunset at the iconic Santa Monica Pier.'},\n",
       " {'bedrooms': 5,\n",
       "  'bath': 4,\n",
       "  'area': 3500,\n",
       "  'price': 2000000,\n",
       "  'location': 'Malibu',\n",
       "  'school_rating': 4.8,\n",
       "  'description': 'Escape to paradise in this exquisite 5-bedroom, 4-bathroom Malibu retreat with breathtaking ocean views. The elegant interiors feature high ceilings, designer finishes, and a gourmet kitchen. Step outside to a serene outdoor oasis with a spa, fire pit, and lush landscaping, perfect for entertaining or relaxing in style.',\n",
       "  'neighborhood_description': 'Malibu is known for its stunning beaches, celebrity homes, and upscale lifestyle. Enjoy surfing, hiking, or dining at world-class restaurants along the picturesque Pacific Coast Highway.'},\n",
       " {'bedrooms': 3,\n",
       "  'bath': 2,\n",
       "  'area': 1800,\n",
       "  'price': 1200000,\n",
       "  'location': 'Venice Beach',\n",
       "  'school_rating': 4.0,\n",
       "  'description': 'Experience Venice Beach living in this modern 3-bedroom, 2-bathroom home just steps from the iconic Venice Boardwalk. This sleek residence boasts sleek design elements, an open floor plan, and a rooftop deck with ocean views. Embrace the vibrant energy of Venice Beach in this stylish coastal retreat.',\n",
       "  'neighborhood_description': 'Venice Beach is a bohemian enclave known for its eclectic mix of artists, musicians, and outdoor enthusiasts. Explore the local artisan shops, grab a bite to eat at a trendy cafe, or immerse yourself in the creative scene along the Venice Boardwalk.'},\n",
       " {'bedrooms': 4,\n",
       "  'bath': 3,\n",
       "  'area': 2200,\n",
       "  'price': 1300000,\n",
       "  'location': 'Pasadena',\n",
       "  'school_rating': 4.3,\n",
       "  'description': 'Nestled in the historic city of Pasadena, this charming 4-bedroom, 3-bathroom home exudes classic California charm. Featuring a spacious living room, formal dining area, and a backyard oasis with a pergola-covered patio, this home is perfect for indoor-outdoor living. Enjoy the beauty and tranquility of Pasadena living in this lovely residence.',\n",
       "  'neighborhood_description': 'Pasadena is known for its tree-lined streets, historic architecture, and cultural attractions. Visit the renowned Norton Simon Museum, explore the beautiful gardens of the Huntington Library, or stroll through Old Town Pasadena for shopping and dining.'},\n",
       " {'bedrooms': 3,\n",
       "  'bath': 2,\n",
       "  'area': 1600,\n",
       "  'price': 950000,\n",
       "  'location': 'Silver Lake',\n",
       "  'school_rating': 3.9,\n",
       "  'description': \"Situated in the trendy neighborhood of Silver Lake, this stylish 3-bedroom, 2-bathroom home offers modern living in a vibrant community. The open-concept floor plan features high ceilings, a chef's kitchen, and a private backyard oasis. Enjoy the hip and eclectic ambiance of Silver Lake in this contemporary residence.\",\n",
       "  'neighborhood_description': 'Silver Lake is known for its artistic vibe, trendy eateries, and picturesque reservoir. Explore the local boutiques, grab a coffee at a cozy cafe, or take a scenic hike around the iconic Silver Lake Reservoir.'},\n",
       " {'bedrooms': 2,\n",
       "  'bath': 2,\n",
       "  'area': 1400,\n",
       "  'price': 750000,\n",
       "  'location': 'West Hollywood',\n",
       "  'school_rating': 4.1,\n",
       "  'description': 'Live the West Hollywood lifestyle in this 2-bedroom, 2-bathroom condo located in the heart of the Sunset Strip. The unit features a modern design, sleek finishes, and a spacious balcony with city views. Experience the vibrant energy and nightlife of West Hollywood in this chic urban retreat.',\n",
       "  'neighborhood_description': 'West Hollywood is a trendy neighborhood known for its nightlife, dining, and entertainment options. Stroll along the Sunset Strip, dine at celebrity hotspots, or shop at upscale boutiques on Melrose Avenue.'}]"
      ]
     },
     "execution_count": 16,
     "metadata": {},
     "output_type": "execute_result"
    }
   ],
   "source": [
    "data"
   ]
  },
  {
   "cell_type": "code",
   "execution_count": 17,
   "id": "4576b1be-fb36-483e-b8fe-395d0941f62e",
   "metadata": {},
   "outputs": [],
   "source": [
    "#create a pandas dataframe\n",
    "pdf = pd.DataFrame(data)\n"
   ]
  },
  {
   "cell_type": "code",
   "execution_count": 18,
   "id": "9fb43ff1-4bfb-48a6-a96c-fd57450bfd79",
   "metadata": {},
   "outputs": [],
   "source": [
    "table.add(pdf)"
   ]
  },
  {
   "cell_type": "code",
   "execution_count": 19,
   "id": "13bf5a96-ccfe-4d39-972a-fd3974852b9d",
   "metadata": {},
   "outputs": [
    {
     "data": {
      "text/plain": [
       "pyarrow.Table\n",
       "bedrooms: int64 not null\n",
       "bath: int64 not null\n",
       "area: int64 not null\n",
       "price: int64 not null\n",
       "location: string not null\n",
       "school_rating: double not null\n",
       "description: string not null\n",
       "neighborhood_description: string not null\n",
       "description_vector: fixed_size_list<item: float>[1536]\n",
       "  child 0, item: float\n",
       "----\n",
       "bedrooms: [[4,2,5,3,4]]\n",
       "bath: [[3,1,4,2,3]]\n",
       "area: [[2500,1200,3500,1800,2200]]\n",
       "price: [[1500000,800000,2000000,1200000,1300000]]\n",
       "location: [[\"Beverly Hills\",\"Santa Monica\",\"Malibu\",\"Venice Beach\",\"Pasadena\"]]\n",
       "school_rating: [[4.5,4.2,4.8,4,4.3]]\n",
       "description: [[\"Luxurious living awaits you in this stunning 4-bedroom, 3-bathroom estate in the prestigious Beverly Hills neighborhood. With high-end finishes throughout, this home features a gourmet kitchen, spacious bedrooms, and a beautifully landscaped backyard with a sparkling pool. Enjoy the ultimate in California luxury living in this Beverly Hills gem.\",\"Live the beach life in this charming 2-bedroom, 1-bathroom bungalow located just blocks from the sandy shores of Santa Monica. This cozy home features a bright and airy interior, a private outdoor patio, and easy access to the vibrant Santa Monica Pier and Third Street Promenade. Embrace coastal living in this Santa Monica getaway.\",\"Escape to paradise in this exquisite 5-bedroom, 4-bathroom Malibu retreat with breathtaking ocean views. The elegant interiors feature high ceilings, designer finishes, and a gourmet kitchen. Step outside to a serene outdoor oasis with a spa, fire pit, and lush landscaping, perfect for entertaining or relaxing in style.\",\"Experience Venice Beach living in this modern 3-bedroom, 2-bathroom home just steps from the iconic Venice Boardwalk. This sleek residence boasts sleek design elements, an open floor plan, and a rooftop deck with ocean views. Embrace the vibrant energy of Venice Beach in this stylish coastal retreat.\",\"Nestled in the historic city of Pasadena, this charming 4-bedroom, 3-bathroom home exudes classic California charm. Featuring a spacious living room, formal dining area, and a backyard oasis with a pergola-covered patio, this home is perfect for indoor-outdoor living. Enjoy the beauty and tranquility of Pasadena living in this lovely residence.\"]]\n",
       "neighborhood_description: [[\"Beverly Hills is known for its upscale shopping, dining, and entertainment options. Explore the nearby Rodeo Drive for designer boutiques or dine at world-class restaurants. Experience the glamour and sophistication of Beverly Hills living.\",\"Santa Monica offers a laid-back coastal lifestyle with a variety of dining, shopping, and outdoor activities. Walk or bike along the beachfront path, explore the Santa Monica Farmers Market, or catch a sunset at the iconic Santa Monica Pier.\",\"Malibu is known for its stunning beaches, celebrity homes, and upscale lifestyle. Enjoy surfing, hiking, or dining at world-class restaurants along the picturesque Pacific Coast Highway.\",\"Venice Beach is a bohemian enclave known for its eclectic mix of artists, musicians, and outdoor enthusiasts. Explore the local artisan shops, grab a bite to eat at a trendy cafe, or immerse yourself in the creative scene along the Venice Boardwalk.\",\"Pasadena is known for its tree-lined streets, historic architecture, and cultural attractions. Visit the renowned Norton Simon Museum, explore the beautiful gardens of the Huntington Library, or stroll through Old Town Pasadena for shopping and dining.\"]]\n",
       "description_vector: [[[0.010389818,0.016074333,-0.0073758806,-0.029630693,0.007827335,...,0.0103707425,0.012208354,-0.01681192,0.005388844,-0.021033976],[0.010834019,-0.00084952207,0.014338196,-0.0021684112,-0.019661976,...,0.011573432,0.030013768,-0.0019626613,-0.009863136,-0.03729217],[0.005749227,0.009250296,-0.0033690147,-0.025586475,-0.003336806,...,0.0014558266,0.010074835,-0.010577289,-0.007420851,-0.04078891],[-0.0059084194,-0.0002364734,0.015301457,-0.0040889606,0.0009820578,...,0.012826221,0.012119011,-0.00834508,-0.007020668,-0.046701588],[0.022467924,0.018375784,-0.0070964973,-0.0023601034,0.0012399446,...,0.007860536,0.02690971,-0.000053215637,-0.0077116136,-0.028852182]]]"
      ]
     },
     "execution_count": 19,
     "metadata": {},
     "output_type": "execute_result"
    }
   ],
   "source": [
    "table.head(5)"
   ]
  },
  {
   "cell_type": "markdown",
   "id": "c2da8269-a7b3-42cc-bc06-de72041c0082",
   "metadata": {},
   "source": [
    "## Capture User Preferences from user query using output parser"
   ]
  },
  {
   "cell_type": "code",
   "execution_count": 20,
   "id": "a9777624-4edd-4390-b513-be8b391f1a49",
   "metadata": {},
   "outputs": [
    {
     "name": "stdout",
     "output_type": "stream",
     "text": [
      "The output should be a markdown code snippet formatted in the following schema, including the leading and trailing \"```json\" and \"```\":\n",
      "\n",
      "```json\n",
      "{\n",
      "\t\"price\": string  // This refers to the maximum listing price of the property the customer is looking for.Provide the number value if specified otherwise use 0\n",
      "\t\"bedrooms\": string  // This refers to the number of bedrooms the customer requires for the property. Provide the number value if specified otherwise use 0 \n",
      "\t\"bath\": string  // This refers to the number of bathrooms the customer requires for the property.Provide the number value if specified otherwise use 0\n",
      "\t\"area\": string  // This refers to the size of the property the customer requires.Provide the float value if specified otherwise use 0.0\n",
      "\t\"location\": string  // This refers to the city where the customer is looking to buy the property\n",
      "\t\"school_rating\": string  // This refers to the rating of the school district  the where the property is located.Provide the float value if specified otherwise use 0.0\n",
      "\t\"description\": string  // This refers to the generalised description for the type of property the customer is looking for\n",
      "}\n",
      "```\n"
     ]
    }
   ],
   "source": [
    "price_schema = ResponseSchema(name=\"price\",description=\"This refers to the maximum listing price of the property the customer is looking for.Provide the number value if specified otherwise use 0\")\n",
    "bedrooms_schema = ResponseSchema(name=\"bedrooms\",description=\"This refers to the number of bedrooms the customer requires for the property. Provide the number value if specified otherwise use 0 \")\n",
    "bathroom_schema = ResponseSchema(name=\"bath\", description=\"This refers to the number of bathrooms the customer requires for the property.Provide the number value if specified otherwise use 0\")\n",
    "size_schema = ResponseSchema(name=\"area\", description=\"This refers to the size of the property the customer requires.Provide the float value if specified otherwise use 0.0\")\n",
    "location_schema = ResponseSchema(name=\"location\", description =\"This refers to the city where the customer is looking to buy the property\")\n",
    "school_schema = ResponseSchema(name=\"school_rating\", description =\"This refers to the rating of the school district  the where the property is located.Provide the float value if specified otherwise use 0.0\")\n",
    "preferences_schema = ResponseSchema(name=\"description\", description = \"This refers to the generalised description for the type of property the customer is looking for\")\n",
    "response_schemas = [price_schema, bedrooms_schema,bathroom_schema,size_schema,location_schema,school_schema, preferences_schema]\n",
    "\n",
    "output_parser = StructuredOutputParser.from_response_schemas(response_schemas)\n",
    "\n",
    "format_instructions = output_parser.get_format_instructions()\n",
    "print(format_instructions)"
   ]
  },
  {
   "cell_type": "code",
   "execution_count": 21,
   "id": "ba3adbfd-db87-4574-8daa-349b34304131",
   "metadata": {},
   "outputs": [],
   "source": [
    "def build_where_expression(metadata_dict):\n",
    "    expression = \"\"\n",
    "    \n",
    "    if \"price\" in metadata_dict:\n",
    "        listmaxprice = int(metadata_dict[\"price\"])\n",
    "        if listmaxprice > 0:\n",
    "            expression = f\"price < {listmaxprice}\"\n",
    "            \n",
    "    if \"bedrooms\" in metadata_dict:\n",
    "        beds = int(metadata_dict[\"bedrooms\"])\n",
    "        if beds > 0:\n",
    "            if expression:\n",
    "                expression = expression + \" and \"\n",
    "            expression = expression + f\"bedrooms >= {beds}\"\n",
    "            \n",
    "    if \"bath\" in metadata_dict:\n",
    "        bathrooms = int(metadata_dict[\"bath\"])\n",
    "        if bathrooms > 0:\n",
    "            if expression:\n",
    "                expression = expression + \" and \"\n",
    "            expression = expression + f\"bath >= {bathrooms}\"\n",
    "        \n",
    "    if \"area\" in metadata_dict:\n",
    "        size = int(metadata_dict[\"area\"])\n",
    "        if size > 0:\n",
    "            if expression:\n",
    "                expression = expression + \" and \"\n",
    "            expression = expression + f\"area >= {size}\"\n",
    "        \n",
    "    if \"school_rating\" in metadata_dict:\n",
    "        schoolrating = float(metadata_dict[\"school_rating\"])\n",
    "        if schoolrating > 0:\n",
    "            if expression:\n",
    "                expression = expression + \" and \"\n",
    "            expression = expression + f\"school_rating >= {schoolrating}\"\n",
    "        \n",
    "    return expression\n",
    "     "
   ]
  },
  {
   "cell_type": "code",
   "execution_count": 22,
   "id": "e722bbba-f1fb-4fef-a1df-e98bcc2fee31",
   "metadata": {},
   "outputs": [],
   "source": [
    "def extract_preferences(user_input):\n",
    "    template = \"\"\"\n",
    "    From the following text message, extract the following information:\n",
    "\n",
    "    text message:{text}\n",
    "    {format_instructions}\n",
    "    \"\"\"\n",
    "    prompt_template = ChatPromptTemplate.from_template(template)\n",
    "    messages = prompt_template.format_messages(text=user_input, format_instructions=format_instructions)\n",
    "\n",
    "    response = chat_llm(messages)\n",
    "    output_dict = output_parser.parse(response.content)\n",
    "    return output_dict"
   ]
  },
  {
   "cell_type": "code",
   "execution_count": 29,
   "id": "0dbde48b-ccd5-4cc3-bd73-b91ecbc2a8fe",
   "metadata": {},
   "outputs": [],
   "source": [
    "# if starting a new session open the lance Db table\n",
    "try:\n",
    "    table\n",
    "except NameError:\n",
    "    lance_db = lancedb.connect(\"realestatedb\")\n",
    "    table = lance_db.open_table(\"realestatelistings\") "
   ]
  },
  {
   "cell_type": "markdown",
   "id": "fa2b63f5-6d26-4834-bd5a-97dc47c90178",
   "metadata": {},
   "source": [
    "## Filter based on user preferences and do a vector search"
   ]
  },
  {
   "cell_type": "code",
   "execution_count": 23,
   "id": "70567cd0-294b-4bb6-9f93-43cca2693ac1",
   "metadata": {},
   "outputs": [],
   "source": [
    "def find_best_matches(user_input,top_n_listings):\n",
    "    preferences = {}    \n",
    "    metadata_dict = extract_preferences(user_input)\n",
    "    print(metadata_dict)\n",
    "    exprfilter = build_where_expression(metadata_dict)\n",
    "    if \"description\" in metadata_dict:\n",
    "        preferences = metadata_dict[\"description\"]\n",
    "    filteredDf = table.search(preferences,vector_column_name = \"description_vector\").where(exprfilter,prefilter=True).limit(top_n_listings).to_pandas()\n",
    "    return filteredDf"
   ]
  },
  {
   "cell_type": "code",
   "execution_count": 24,
   "id": "430e246e-6930-483b-9b02-78a10696b63d",
   "metadata": {},
   "outputs": [
    {
     "name": "stderr",
     "output_type": "stream",
     "text": [
      "C:\\Users\\sum_c\\AppData\\Local\\Temp\\ipykernel_13804\\492049939.py:11: LangChainDeprecationWarning: The method `BaseChatModel.__call__` was deprecated in langchain-core 0.1.7 and will be removed in 1.0. Use :meth:`~invoke` instead.\n",
      "  response = chat_llm(messages)\n"
     ]
    },
    {
     "name": "stdout",
     "output_type": "stream",
     "text": [
      "{'price': 0, 'bedrooms': 3, 'bath': 2, 'area': 0.0, 'location': '', 'school_rating': 0.0, 'description': 'Looking for a home with a backyard with at least 3 bedrooms and 2 baths'}\n"
     ]
    },
    {
     "data": {
      "text/html": [
       "<div>\n",
       "<style scoped>\n",
       "    .dataframe tbody tr th:only-of-type {\n",
       "        vertical-align: middle;\n",
       "    }\n",
       "\n",
       "    .dataframe tbody tr th {\n",
       "        vertical-align: top;\n",
       "    }\n",
       "\n",
       "    .dataframe thead th {\n",
       "        text-align: right;\n",
       "    }\n",
       "</style>\n",
       "<table border=\"1\" class=\"dataframe\">\n",
       "  <thead>\n",
       "    <tr style=\"text-align: right;\">\n",
       "      <th></th>\n",
       "      <th>bedrooms</th>\n",
       "      <th>bath</th>\n",
       "      <th>area</th>\n",
       "      <th>price</th>\n",
       "      <th>location</th>\n",
       "      <th>school_rating</th>\n",
       "      <th>description</th>\n",
       "      <th>neighborhood_description</th>\n",
       "      <th>description_vector</th>\n",
       "      <th>_distance</th>\n",
       "    </tr>\n",
       "  </thead>\n",
       "  <tbody>\n",
       "    <tr>\n",
       "      <th>0</th>\n",
       "      <td>4</td>\n",
       "      <td>3</td>\n",
       "      <td>2200</td>\n",
       "      <td>1300000</td>\n",
       "      <td>Pasadena</td>\n",
       "      <td>4.3</td>\n",
       "      <td>Nestled in the historic city of Pasadena, this...</td>\n",
       "      <td>Pasadena is known for its tree-lined streets, ...</td>\n",
       "      <td>[0.022467924, 0.018375784, -0.0070964973, -0.0...</td>\n",
       "      <td>0.328276</td>\n",
       "    </tr>\n",
       "    <tr>\n",
       "      <th>1</th>\n",
       "      <td>4</td>\n",
       "      <td>3</td>\n",
       "      <td>2500</td>\n",
       "      <td>1500000</td>\n",
       "      <td>Beverly Hills</td>\n",
       "      <td>4.5</td>\n",
       "      <td>Luxurious living awaits you in this stunning 4...</td>\n",
       "      <td>Beverly Hills is known for its upscale shoppin...</td>\n",
       "      <td>[0.010389818, 0.016074333, -0.0073758806, -0.0...</td>\n",
       "      <td>0.357996</td>\n",
       "    </tr>\n",
       "    <tr>\n",
       "      <th>2</th>\n",
       "      <td>3</td>\n",
       "      <td>2</td>\n",
       "      <td>1600</td>\n",
       "      <td>950000</td>\n",
       "      <td>Silver Lake</td>\n",
       "      <td>3.9</td>\n",
       "      <td>Situated in the trendy neighborhood of Silver ...</td>\n",
       "      <td>Silver Lake is known for its artistic vibe, tr...</td>\n",
       "      <td>[0.007878758, 0.0068253134, 0.0035861281, -0.0...</td>\n",
       "      <td>0.363428</td>\n",
       "    </tr>\n",
       "  </tbody>\n",
       "</table>\n",
       "</div>"
      ],
      "text/plain": [
       "   bedrooms  bath  area    price       location  school_rating  \\\n",
       "0         4     3  2200  1300000       Pasadena            4.3   \n",
       "1         4     3  2500  1500000  Beverly Hills            4.5   \n",
       "2         3     2  1600   950000    Silver Lake            3.9   \n",
       "\n",
       "                                         description  \\\n",
       "0  Nestled in the historic city of Pasadena, this...   \n",
       "1  Luxurious living awaits you in this stunning 4...   \n",
       "2  Situated in the trendy neighborhood of Silver ...   \n",
       "\n",
       "                            neighborhood_description  \\\n",
       "0  Pasadena is known for its tree-lined streets, ...   \n",
       "1  Beverly Hills is known for its upscale shoppin...   \n",
       "2  Silver Lake is known for its artistic vibe, tr...   \n",
       "\n",
       "                                  description_vector  _distance  \n",
       "0  [0.022467924, 0.018375784, -0.0070964973, -0.0...   0.328276  \n",
       "1  [0.010389818, 0.016074333, -0.0073758806, -0.0...   0.357996  \n",
       "2  [0.007878758, 0.0068253134, 0.0035861281, -0.0...   0.363428  "
      ]
     },
     "execution_count": 24,
     "metadata": {},
     "output_type": "execute_result"
    }
   ],
   "source": [
    "user_input=\"I am looking for a home with a backyard with at least 3 bedrooms and 2 bath\"\n",
    "filteredDf = find_best_matches(user_input,3)\n",
    "filteredDf.head()"
   ]
  },
  {
   "cell_type": "markdown",
   "id": "29134c99-5771-455b-907d-6325163c3cde",
   "metadata": {},
   "source": [
    "### Augment the output"
   ]
  },
  {
   "cell_type": "code",
   "execution_count": 25,
   "id": "24fd6999-441c-4a7f-9380-1163bdd42eba",
   "metadata": {
    "jupyter": {
     "source_hidden": true
    }
   },
   "outputs": [],
   "source": [
    "import inflect\n",
    "def augment_output(query,df):\n",
    "    context=\"\"\n",
    "   # p = inflect.engine()\n",
    "    for index,row in df.iterrows():\n",
    "       # context = context + \"The property having an area of \" + p.number_to_words(int(row[\"area\"])) + \" is located in \"+ row[\"location\"] + \" with a price of \"+ p.number_to_words(int(row[\"price\"])) + \" and has \"+ p.number_to_words(int(row[\"bedrooms\"])) + \" bedrooms and near to a school district with a rating of \"+ p.number_to_words(int(row[\"school_rating\"])) + \".\" + row[\"description\"] + \".\\n\\n\"\n",
    "       # context = context + \"The property having an area of \" + f\"{row[\"area\"]} sqft\" + \" is located in \"+ f\"{row[\"location\"]}\" + \" with a price of \"+ f\"{row[\"price\"]}\" + \" and has \"+ f\"{row[\"bedrooms\"]}\" + \" bedrooms and near to a school district with a rating of \"+ f\"{row[\"school_rating\"]}\" + \".\" + row[\"description\"] + \".\\n\\n\"\n",
    "        context =   context + row[\"description\"] + \".\" + row[\"neighborhood_description\"] + \".\\n\\n\"     \n",
    "        response = openai.chat.completions.create(\n",
    "        model=\"gpt-3.5-turbo\",\n",
    "        messages=[\n",
    "            {\n",
    "                \"role\":\"system\",\n",
    "                \"content\":\"You are an expert real estate agent that answers questions based on context provided.Augment the description to resonate with user preferences. \\n If you do not \"\n",
    "                + \" know the answer say you do not have enough information\"\n",
    "            },\n",
    "            {\n",
    "               \"role\":\"user\", \n",
    "                \"content\":f\"context:{context}\\n QUERY:{query}\"\n",
    "            }\n",
    "                        \n",
    "        ],\n",
    "     )\n",
    "    response = response.choices[0].message.content\n",
    "    return response"
   ]
  },
  {
   "cell_type": "code",
   "execution_count": 26,
   "id": "77760a96-e69c-4664-b6fd-b29f179594f7",
   "metadata": {
    "scrolled": true
   },
   "outputs": [
    {
     "data": {
      "text/plain": [
       "\"I can provide a factual summary based on the context provided:\\n\\n1. The first listing is a charming 4-bedroom, 3-bathroom home located in the historic city of Pasadena. It features classic California charm with a spacious living room, formal dining area, and a backyard oasis with a pergola-covered patio, perfect for indoor-outdoor living. Pasadena is known for its tree-lined streets, historic architecture, and cultural attractions such as the Norton Simon Museum and the Huntington Library.\\n\\n2. The second listing is a luxurious 4-bedroom, 3-bathroom estate in the prestigious Beverly Hills neighborhood. This stunning home offers high-end finishes, a gourmet kitchen, spacious bedrooms, and a beautifully landscaped backyard with a sparkling pool. Beverly Hills is famous for its upscale shopping, dining, and entertainment options, including Rodeo Drive's designer boutiques and world-class restaurants that embody the glamour and sophistication of Beverly Hills living.\""
      ]
     },
     "execution_count": 26,
     "metadata": {},
     "output_type": "execute_result"
    }
   ],
   "source": [
    "augment_output(\"Provide a factual summary of two listings\",filteredDf)"
   ]
  },
  {
   "cell_type": "code",
   "execution_count": null,
   "id": "c5161eb1-1d61-46a2-9e8d-86e1ae293a41",
   "metadata": {},
   "outputs": [],
   "source": []
  }
 ],
 "metadata": {
  "kernelspec": {
   "display_name": "Python 3 (ipykernel)",
   "language": "python",
   "name": "python3"
  },
  "language_info": {
   "codemirror_mode": {
    "name": "ipython",
    "version": 3
   },
   "file_extension": ".py",
   "mimetype": "text/x-python",
   "name": "python",
   "nbconvert_exporter": "python",
   "pygments_lexer": "ipython3",
   "version": "3.13.2"
  }
 },
 "nbformat": 4,
 "nbformat_minor": 5
}
