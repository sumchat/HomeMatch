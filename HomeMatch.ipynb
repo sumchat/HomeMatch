{
 "cells": [
  {
   "cell_type": "markdown",
   "id": "0dd4bb75-a294-495f-be28-3044b01d2c4a",
   "metadata": {},
   "source": [
    "## Install Libraries"
   ]
  },
  {
   "cell_type": "code",
   "execution_count": 4,
   "id": "e2b70390-96d1-4855-9f08-d5711bd52aff",
   "metadata": {
    "scrolled": true
   },
   "outputs": [
    {
     "name": "stdout",
     "output_type": "stream",
     "text": [
      "Collecting langchain-community\n",
      "  Downloading langchain_community-0.3.17-py3-none-any.whl.metadata (2.4 kB)\n",
      "Requirement already satisfied: langchain-core in c:\\users\\sum_c\\anaconda3\\envs\\py3_env\\lib\\site-packages (0.3.35)\n",
      "Requirement already satisfied: langchain<1.0.0,>=0.3.18 in c:\\users\\sum_c\\anaconda3\\envs\\py3_env\\lib\\site-packages (from langchain-community) (0.3.18)\n",
      "Requirement already satisfied: SQLAlchemy<3,>=1.4 in c:\\users\\sum_c\\anaconda3\\envs\\py3_env\\lib\\site-packages (from langchain-community) (2.0.38)\n",
      "Requirement already satisfied: requests<3,>=2 in c:\\users\\sum_c\\anaconda3\\envs\\py3_env\\lib\\site-packages (from langchain-community) (2.32.3)\n",
      "Requirement already satisfied: PyYAML>=5.3 in c:\\users\\sum_c\\anaconda3\\envs\\py3_env\\lib\\site-packages (from langchain-community) (6.0.2)\n",
      "Requirement already satisfied: aiohttp<4.0.0,>=3.8.3 in c:\\users\\sum_c\\anaconda3\\envs\\py3_env\\lib\\site-packages (from langchain-community) (3.11.12)\n",
      "Requirement already satisfied: tenacity!=8.4.0,<10,>=8.1.0 in c:\\users\\sum_c\\anaconda3\\envs\\py3_env\\lib\\site-packages (from langchain-community) (9.0.0)\n",
      "Collecting dataclasses-json<0.7,>=0.5.7 (from langchain-community)\n",
      "  Downloading dataclasses_json-0.6.7-py3-none-any.whl.metadata (25 kB)\n",
      "Collecting pydantic-settings<3.0.0,>=2.4.0 (from langchain-community)\n",
      "  Downloading pydantic_settings-2.7.1-py3-none-any.whl.metadata (3.5 kB)\n",
      "Requirement already satisfied: langsmith<0.4,>=0.1.125 in c:\\users\\sum_c\\anaconda3\\envs\\py3_env\\lib\\site-packages (from langchain-community) (0.3.8)\n",
      "Collecting httpx-sse<1.0.0,>=0.4.0 (from langchain-community)\n",
      "  Downloading httpx_sse-0.4.0-py3-none-any.whl.metadata (9.0 kB)\n",
      "Requirement already satisfied: numpy<3,>=1.26.2 in c:\\users\\sum_c\\anaconda3\\envs\\py3_env\\lib\\site-packages (from langchain-community) (2.2.3)\n",
      "Requirement already satisfied: jsonpatch<2.0,>=1.33 in c:\\users\\sum_c\\anaconda3\\envs\\py3_env\\lib\\site-packages (from langchain-core) (1.33)\n",
      "Requirement already satisfied: packaging<25,>=23.2 in c:\\users\\sum_c\\anaconda3\\envs\\py3_env\\lib\\site-packages (from langchain-core) (24.2)\n",
      "Requirement already satisfied: typing-extensions>=4.7 in c:\\users\\sum_c\\anaconda3\\envs\\py3_env\\lib\\site-packages (from langchain-core) (4.12.2)\n",
      "Requirement already satisfied: pydantic<3.0.0,>=2.7.4 in c:\\users\\sum_c\\anaconda3\\envs\\py3_env\\lib\\site-packages (from langchain-core) (2.10.6)\n",
      "Requirement already satisfied: aiohappyeyeballs>=2.3.0 in c:\\users\\sum_c\\anaconda3\\envs\\py3_env\\lib\\site-packages (from aiohttp<4.0.0,>=3.8.3->langchain-community) (2.4.6)\n",
      "Requirement already satisfied: aiosignal>=1.1.2 in c:\\users\\sum_c\\anaconda3\\envs\\py3_env\\lib\\site-packages (from aiohttp<4.0.0,>=3.8.3->langchain-community) (1.3.2)\n",
      "Requirement already satisfied: attrs>=17.3.0 in c:\\users\\sum_c\\anaconda3\\envs\\py3_env\\lib\\site-packages (from aiohttp<4.0.0,>=3.8.3->langchain-community) (25.1.0)\n",
      "Requirement already satisfied: frozenlist>=1.1.1 in c:\\users\\sum_c\\anaconda3\\envs\\py3_env\\lib\\site-packages (from aiohttp<4.0.0,>=3.8.3->langchain-community) (1.5.0)\n",
      "Requirement already satisfied: multidict<7.0,>=4.5 in c:\\users\\sum_c\\anaconda3\\envs\\py3_env\\lib\\site-packages (from aiohttp<4.0.0,>=3.8.3->langchain-community) (6.1.0)\n",
      "Requirement already satisfied: propcache>=0.2.0 in c:\\users\\sum_c\\anaconda3\\envs\\py3_env\\lib\\site-packages (from aiohttp<4.0.0,>=3.8.3->langchain-community) (0.2.1)\n",
      "Requirement already satisfied: yarl<2.0,>=1.17.0 in c:\\users\\sum_c\\anaconda3\\envs\\py3_env\\lib\\site-packages (from aiohttp<4.0.0,>=3.8.3->langchain-community) (1.18.3)\n",
      "Collecting marshmallow<4.0.0,>=3.18.0 (from dataclasses-json<0.7,>=0.5.7->langchain-community)\n",
      "  Downloading marshmallow-3.26.1-py3-none-any.whl.metadata (7.3 kB)\n",
      "Collecting typing-inspect<1,>=0.4.0 (from dataclasses-json<0.7,>=0.5.7->langchain-community)\n",
      "  Downloading typing_inspect-0.9.0-py3-none-any.whl.metadata (1.5 kB)\n",
      "Requirement already satisfied: jsonpointer>=1.9 in c:\\users\\sum_c\\anaconda3\\envs\\py3_env\\lib\\site-packages (from jsonpatch<2.0,>=1.33->langchain-core) (3.0.0)\n",
      "Requirement already satisfied: langchain-text-splitters<1.0.0,>=0.3.6 in c:\\users\\sum_c\\anaconda3\\envs\\py3_env\\lib\\site-packages (from langchain<1.0.0,>=0.3.18->langchain-community) (0.3.6)\n",
      "Requirement already satisfied: httpx<1,>=0.23.0 in c:\\users\\sum_c\\anaconda3\\envs\\py3_env\\lib\\site-packages (from langsmith<0.4,>=0.1.125->langchain-community) (0.28.1)\n",
      "Requirement already satisfied: orjson<4.0.0,>=3.9.14 in c:\\users\\sum_c\\anaconda3\\envs\\py3_env\\lib\\site-packages (from langsmith<0.4,>=0.1.125->langchain-community) (3.10.15)\n",
      "Requirement already satisfied: requests-toolbelt<2.0.0,>=1.0.0 in c:\\users\\sum_c\\anaconda3\\envs\\py3_env\\lib\\site-packages (from langsmith<0.4,>=0.1.125->langchain-community) (1.0.0)\n",
      "Requirement already satisfied: zstandard<0.24.0,>=0.23.0 in c:\\users\\sum_c\\anaconda3\\envs\\py3_env\\lib\\site-packages (from langsmith<0.4,>=0.1.125->langchain-community) (0.23.0)\n",
      "Requirement already satisfied: annotated-types>=0.6.0 in c:\\users\\sum_c\\anaconda3\\envs\\py3_env\\lib\\site-packages (from pydantic<3.0.0,>=2.7.4->langchain-core) (0.7.0)\n",
      "Requirement already satisfied: pydantic-core==2.27.2 in c:\\users\\sum_c\\anaconda3\\envs\\py3_env\\lib\\site-packages (from pydantic<3.0.0,>=2.7.4->langchain-core) (2.27.2)\n",
      "Collecting python-dotenv>=0.21.0 (from pydantic-settings<3.0.0,>=2.4.0->langchain-community)\n",
      "  Downloading python_dotenv-1.0.1-py3-none-any.whl.metadata (23 kB)\n",
      "Requirement already satisfied: charset-normalizer<4,>=2 in c:\\users\\sum_c\\anaconda3\\envs\\py3_env\\lib\\site-packages (from requests<3,>=2->langchain-community) (3.4.1)\n",
      "Requirement already satisfied: idna<4,>=2.5 in c:\\users\\sum_c\\anaconda3\\envs\\py3_env\\lib\\site-packages (from requests<3,>=2->langchain-community) (3.10)\n",
      "Requirement already satisfied: urllib3<3,>=1.21.1 in c:\\users\\sum_c\\anaconda3\\envs\\py3_env\\lib\\site-packages (from requests<3,>=2->langchain-community) (2.3.0)\n",
      "Requirement already satisfied: certifi>=2017.4.17 in c:\\users\\sum_c\\anaconda3\\envs\\py3_env\\lib\\site-packages (from requests<3,>=2->langchain-community) (2025.1.31)\n",
      "Requirement already satisfied: greenlet!=0.4.17 in c:\\users\\sum_c\\anaconda3\\envs\\py3_env\\lib\\site-packages (from SQLAlchemy<3,>=1.4->langchain-community) (3.1.1)\n",
      "Requirement already satisfied: anyio in c:\\users\\sum_c\\anaconda3\\envs\\py3_env\\lib\\site-packages (from httpx<1,>=0.23.0->langsmith<0.4,>=0.1.125->langchain-community) (4.8.0)\n",
      "Requirement already satisfied: httpcore==1.* in c:\\users\\sum_c\\anaconda3\\envs\\py3_env\\lib\\site-packages (from httpx<1,>=0.23.0->langsmith<0.4,>=0.1.125->langchain-community) (1.0.7)\n",
      "Requirement already satisfied: h11<0.15,>=0.13 in c:\\users\\sum_c\\anaconda3\\envs\\py3_env\\lib\\site-packages (from httpcore==1.*->httpx<1,>=0.23.0->langsmith<0.4,>=0.1.125->langchain-community) (0.14.0)\n",
      "Collecting mypy-extensions>=0.3.0 (from typing-inspect<1,>=0.4.0->dataclasses-json<0.7,>=0.5.7->langchain-community)\n",
      "  Downloading mypy_extensions-1.0.0-py3-none-any.whl.metadata (1.1 kB)\n",
      "Requirement already satisfied: sniffio>=1.1 in c:\\users\\sum_c\\anaconda3\\envs\\py3_env\\lib\\site-packages (from anyio->httpx<1,>=0.23.0->langsmith<0.4,>=0.1.125->langchain-community) (1.3.1)\n",
      "Downloading langchain_community-0.3.17-py3-none-any.whl (2.5 MB)\n",
      "   ---------------------------------------- 0.0/2.5 MB ? eta -:--:--\n",
      "   ---------------------------------------- 2.5/2.5 MB 18.5 MB/s eta 0:00:00\n",
      "Downloading dataclasses_json-0.6.7-py3-none-any.whl (28 kB)\n",
      "Downloading httpx_sse-0.4.0-py3-none-any.whl (7.8 kB)\n",
      "Downloading pydantic_settings-2.7.1-py3-none-any.whl (29 kB)\n",
      "Downloading marshmallow-3.26.1-py3-none-any.whl (50 kB)\n",
      "Downloading python_dotenv-1.0.1-py3-none-any.whl (19 kB)\n",
      "Downloading typing_inspect-0.9.0-py3-none-any.whl (8.8 kB)\n",
      "Downloading mypy_extensions-1.0.0-py3-none-any.whl (4.7 kB)\n",
      "Installing collected packages: python-dotenv, mypy-extensions, marshmallow, httpx-sse, typing-inspect, pydantic-settings, dataclasses-json, langchain-community\n",
      "Successfully installed dataclasses-json-0.6.7 httpx-sse-0.4.0 langchain-community-0.3.17 marshmallow-3.26.1 mypy-extensions-1.0.0 pydantic-settings-2.7.1 python-dotenv-1.0.1 typing-inspect-0.9.0\n",
      "Note: you may need to restart the kernel to use updated packages.\n"
     ]
    }
   ],
   "source": [
    "pip install langchain-community langchain-core"
   ]
  },
  {
   "cell_type": "code",
   "execution_count": 2,
   "id": "1e9bab19-2ba4-4a80-8547-16539460f4c7",
   "metadata": {},
   "outputs": [
    {
     "name": "stdout",
     "output_type": "stream",
     "text": [
      "Collecting pandas\n",
      "  Downloading pandas-2.2.3-cp313-cp313-win_amd64.whl.metadata (19 kB)\n",
      "Requirement already satisfied: numpy>=1.26.0 in c:\\users\\sum_c\\anaconda3\\envs\\py3_env\\lib\\site-packages (from pandas) (2.2.3)\n",
      "Requirement already satisfied: python-dateutil>=2.8.2 in c:\\users\\sum_c\\anaconda3\\envs\\py3_env\\lib\\site-packages (from pandas) (2.9.0.post0)\n",
      "Collecting pytz>=2020.1 (from pandas)\n",
      "  Downloading pytz-2025.1-py2.py3-none-any.whl.metadata (22 kB)\n",
      "Collecting tzdata>=2022.7 (from pandas)\n",
      "  Downloading tzdata-2025.1-py2.py3-none-any.whl.metadata (1.4 kB)\n",
      "Requirement already satisfied: six>=1.5 in c:\\users\\sum_c\\anaconda3\\envs\\py3_env\\lib\\site-packages (from python-dateutil>=2.8.2->pandas) (1.17.0)\n",
      "Downloading pandas-2.2.3-cp313-cp313-win_amd64.whl (11.5 MB)\n",
      "   ---------------------------------------- 0.0/11.5 MB ? eta -:--:--\n",
      "   ----------------- ---------------------- 5.0/11.5 MB 28.6 MB/s eta 0:00:01\n",
      "   ---------------------------------------  11.3/11.5 MB 29.9 MB/s eta 0:00:01\n",
      "   ---------------------------------------- 11.5/11.5 MB 28.1 MB/s eta 0:00:00\n",
      "Downloading pytz-2025.1-py2.py3-none-any.whl (507 kB)\n",
      "Downloading tzdata-2025.1-py2.py3-none-any.whl (346 kB)\n",
      "Installing collected packages: pytz, tzdata, pandas\n",
      "Successfully installed pandas-2.2.3 pytz-2025.1 tzdata-2025.1\n",
      "Note: you may need to restart the kernel to use updated packages.\n"
     ]
    }
   ],
   "source": [
    "pip install pandas"
   ]
  },
  {
   "cell_type": "code",
   "execution_count": 2,
   "id": "62bd7463-63d8-4463-a052-11453e5fbf67",
   "metadata": {},
   "outputs": [
    {
     "name": "stdout",
     "output_type": "stream",
     "text": [
      "Collecting lancedb\n",
      "  Downloading lancedb-0.19.0-cp39-abi3-win_amd64.whl.metadata (4.1 kB)\n",
      "Collecting deprecation (from lancedb)\n",
      "  Downloading deprecation-2.1.0-py2.py3-none-any.whl.metadata (4.6 kB)\n",
      "Collecting pylance==0.23.0 (from lancedb)\n",
      "  Downloading pylance-0.23.0-cp39-abi3-win_amd64.whl.metadata (7.4 kB)\n",
      "Requirement already satisfied: tqdm>=4.27.0 in c:\\users\\sum_c\\anaconda3\\envs\\py3_env\\lib\\site-packages (from lancedb) (4.67.1)\n",
      "Requirement already satisfied: pydantic>=1.10 in c:\\users\\sum_c\\anaconda3\\envs\\py3_env\\lib\\site-packages (from lancedb) (2.10.6)\n",
      "Requirement already satisfied: packaging in c:\\users\\sum_c\\anaconda3\\envs\\py3_env\\lib\\site-packages (from lancedb) (24.2)\n",
      "Requirement already satisfied: overrides>=0.7 in c:\\users\\sum_c\\anaconda3\\envs\\py3_env\\lib\\site-packages (from lancedb) (7.7.0)\n",
      "Collecting pyarrow>=14 (from pylance==0.23.0->lancedb)\n",
      "  Downloading pyarrow-19.0.0-cp313-cp313-win_amd64.whl.metadata (3.4 kB)\n",
      "Requirement already satisfied: numpy>=1.22 in c:\\users\\sum_c\\anaconda3\\envs\\py3_env\\lib\\site-packages (from pylance==0.23.0->lancedb) (2.2.3)\n",
      "Requirement already satisfied: annotated-types>=0.6.0 in c:\\users\\sum_c\\anaconda3\\envs\\py3_env\\lib\\site-packages (from pydantic>=1.10->lancedb) (0.7.0)\n",
      "Requirement already satisfied: pydantic-core==2.27.2 in c:\\users\\sum_c\\anaconda3\\envs\\py3_env\\lib\\site-packages (from pydantic>=1.10->lancedb) (2.27.2)\n",
      "Requirement already satisfied: typing-extensions>=4.12.2 in c:\\users\\sum_c\\anaconda3\\envs\\py3_env\\lib\\site-packages (from pydantic>=1.10->lancedb) (4.12.2)\n",
      "Requirement already satisfied: colorama in c:\\users\\sum_c\\anaconda3\\envs\\py3_env\\lib\\site-packages (from tqdm>=4.27.0->lancedb) (0.4.6)\n",
      "Downloading lancedb-0.19.0-cp39-abi3-win_amd64.whl (30.0 MB)\n",
      "   ---------------------------------------- 0.0/30.0 MB ? eta -:--:--\n",
      "   ------ --------------------------------- 5.2/30.0 MB 27.7 MB/s eta 0:00:01\n",
      "   -------------- ------------------------- 11.0/30.0 MB 27.3 MB/s eta 0:00:01\n",
      "   ---------------------- ----------------- 16.5/30.0 MB 27.4 MB/s eta 0:00:01\n",
      "   ----------------------------- ---------- 22.0/30.0 MB 27.2 MB/s eta 0:00:01\n",
      "   ------------------------------------- -- 28.3/30.0 MB 27.6 MB/s eta 0:00:01\n",
      "   ---------------------------------------- 30.0/30.0 MB 25.9 MB/s eta 0:00:00\n",
      "Downloading pylance-0.23.0-cp39-abi3-win_amd64.whl (34.7 MB)\n",
      "   ---------------------------------------- 0.0/34.7 MB ? eta -:--:--\n",
      "   ------- -------------------------------- 6.3/34.7 MB 30.2 MB/s eta 0:00:01\n",
      "   ------------- -------------------------- 11.8/34.7 MB 28.4 MB/s eta 0:00:01\n",
      "   -------------------- ------------------- 17.6/34.7 MB 28.0 MB/s eta 0:00:01\n",
      "   --------------------------- ------------ 23.9/34.7 MB 28.3 MB/s eta 0:00:01\n",
      "   --------------------------------- ------ 29.1/34.7 MB 28.0 MB/s eta 0:00:01\n",
      "   ---------------------------------------  34.6/34.7 MB 27.8 MB/s eta 0:00:01\n",
      "   ---------------------------------------- 34.7/34.7 MB 26.6 MB/s eta 0:00:00\n",
      "Downloading deprecation-2.1.0-py2.py3-none-any.whl (11 kB)\n",
      "Downloading pyarrow-19.0.0-cp313-cp313-win_amd64.whl (25.2 MB)\n",
      "   ---------------------------------------- 0.0/25.2 MB ? eta -:--:--\n",
      "   --------- ------------------------------ 5.8/25.2 MB 28.9 MB/s eta 0:00:01\n",
      "   ----------------- ---------------------- 10.7/25.2 MB 26.8 MB/s eta 0:00:01\n",
      "   -------------------------- ------------- 16.8/25.2 MB 27.5 MB/s eta 0:00:01\n",
      "   --------------------------------- ------ 21.2/25.2 MB 25.9 MB/s eta 0:00:01\n",
      "   ---------------------------------------  25.2/25.2 MB 25.8 MB/s eta 0:00:01\n",
      "   ---------------------------------------- 25.2/25.2 MB 24.4 MB/s eta 0:00:00\n",
      "Installing collected packages: pyarrow, deprecation, pylance, lancedb\n",
      "Successfully installed deprecation-2.1.0 lancedb-0.19.0 pyarrow-19.0.0 pylance-0.23.0\n",
      "Note: you may need to restart the kernel to use updated packages.\n"
     ]
    }
   ],
   "source": [
    "pip install lancedb"
   ]
  },
  {
   "cell_type": "markdown",
   "id": "4cd8ed85-357c-4ef8-a181-a5f6f967e41a",
   "metadata": {},
   "source": [
    "## Imports"
   ]
  },
  {
   "cell_type": "code",
   "execution_count": 1,
   "id": "597ade4d-f29a-43d2-a013-2874fc57cd73",
   "metadata": {},
   "outputs": [],
   "source": [
    "from langchain.chat_models import ChatOpenAI\n",
    "from langchain.schema import AIMessage,HumanMessage,SystemMessage,FunctionMessage\n",
    "\n",
    "\n",
    "import json\n",
    "import pandas as pd\n",
    "import lancedb\n",
    "from lancedb.pydantic import Vector,LanceModel\n",
    "from lancedb.embeddings import get_registry\n",
    "from langchain.output_parsers import ResponseSchema, StructuredOutputParser\n",
    "from langchain.prompts import ChatPromptTemplate\n",
    "import openai"
   ]
  },
  {
   "cell_type": "code",
   "execution_count": 4,
   "id": "bf4590d8-c4d1-49c4-9e06-a32f43ad4ce6",
   "metadata": {},
   "outputs": [],
   "source": [
    "import os\n",
    "\n",
    "os.environ[\"OPENAI_API_KEY\"] = \"xxx\"\n",
    "openai.api_key = os.getenv(\"OPENAI_API_KEY\")\n"
   ]
  },
  {
   "cell_type": "markdown",
   "id": "0b29509c-bbe8-4184-9093-96b409a1037c",
   "metadata": {},
   "source": [
    "## Generate Real Estate listings using Langchain"
   ]
  },
  {
   "cell_type": "code",
   "execution_count": 5,
   "id": "12bf5c21-9c60-4093-8f3a-e114557467ae",
   "metadata": {},
   "outputs": [],
   "source": [
    "chat_llm = ChatOpenAI(temperature=1)"
   ]
  },
  {
   "cell_type": "code",
   "execution_count": 6,
   "id": "750f4282-aab8-4778-981e-d3288dc98eda",
   "metadata": {},
   "outputs": [],
   "source": [
    "system_prompt = \"You are a real estate agent in the city of Los Angeles in USA\"\n",
    "human_prompt = \"\"\"Generate at least 7 real estate listings across different counties using your imagination. The listings must be\n",
    "in a JSON array of dictionaries with each item in the following format:\n",
    "{\n",
    " \\\"bds\\\":3,\n",
    " \\\"ba\\\":2,\n",
    " \\\"sqft\\\":1500,\n",
    " \\\"price\":1000000,\n",
    " \\\"location\\\":\\\"North Hollywood\\\",\n",
    " \\\"school_rating\\\":3.8,\n",
    " \\\"description\\\":\\\"The spacious living area features floor-to-ceiling windows light\\\" \n",
    "}\"\"\""
   ]
  },
  {
   "cell_type": "code",
   "execution_count": 7,
   "id": "8640b72a-0955-4c9b-bc53-6441898c7b3e",
   "metadata": {},
   "outputs": [],
   "source": [
    "messages = [\n",
    "    SystemMessage(content=system_prompt),\n",
    "    HumanMessage(content=human_prompt)\n",
    "]\n",
    "json_llm = chat_llm.bind(response_format={\"type\":\"json_object\"})"
   ]
  },
  {
   "cell_type": "code",
   "execution_count": 10,
   "id": "226f3e0a-36d6-44a6-bc14-170d5d770127",
   "metadata": {},
   "outputs": [
    {
     "data": {
      "text/plain": [
       "AIMessage(content='```json\\n[\\n    {\\n        \"bds\": 3,\\n        \"ba\": 2,\\n        \"sqft\": 1500,\\n        \"price\": 1000000,\\n        \"location\": \"North Hollywood\",\\n        \"school_rating\": 3.8,\\n        \"description\": \"The spacious living area features floor-to-ceiling windows, bringing in ample natural light.\"\\n    },\\n    {\\n        \"bds\": 4,\\n        \"ba\": 3,\\n        \"sqft\": 2200,\\n        \"price\": 1500000,\\n        \"location\": \"Beverly Hills\",\\n        \"school_rating\": 4.5,\\n        \"description\": \"Luxury living in the heart of Beverly Hills, with modern amenities and stunning views.\"\\n    },\\n    {\\n        \"bds\": 2,\\n        \"ba\": 1,\\n        \"sqft\": 1200,\\n        \"price\": 750000,\\n        \"location\": \"Santa Monica\",\\n        \"school_rating\": 4.0,\\n        \"description\": \"Charming beachside condo in Santa Monica, perfect for those seeking a relaxed lifestyle.\"\\n    },\\n    {\\n        \"bds\": 5,\\n        \"ba\": 4,\\n        \"sqft\": 3500,\\n        \"price\": 2500000,\\n        \"location\": \"Malibu\",\\n        \"school_rating\": 4.2,\\n        \"description\": \"Experience the epitome of coastal living in this luxurious Malibu estate with private beach access.\"\\n    },\\n    {\\n        \"bds\": 3,\\n        \"ba\": 2,\\n        \"sqft\": 1800,\\n        \"price\": 980000,\\n        \"location\": \"Pasadena\",\\n        \"school_rating\": 4.1,\\n        \"description\": \"Classic Pasadena home with a beautiful backyard garden, perfect for outdoor entertaining.\"\\n    },\\n    {\\n        \"bds\": 4,\\n        \"ba\": 3,\\n        \"sqft\": 2400,\\n        \"price\": 1350000,\\n        \"location\": \"Downtown Los Angeles\",\\n        \"school_rating\": 3.7,\\n        \"description\": \"Modern urban living in a stylish loft in Downtown LA, close to entertainment and dining options.\"\\n    },\\n    {\\n        \"bds\": 5,\\n        \"ba\": 5,\\n        \"sqft\": 5000,\\n        \"price\": 3800000,\\n        \"location\": \"Pacific Palisades\",\\n        \"school_rating\": 4.8,\\n        \"description\": \"Elegant Mediterranean villa in Pacific Palisades, offering resort-style living with ocean views.\"\\n    }\\n]\\n```', additional_kwargs={}, response_metadata={'token_usage': {'completion_tokens': 550, 'prompt_tokens': 116, 'total_tokens': 666, 'completion_tokens_details': {'accepted_prediction_tokens': 0, 'audio_tokens': 0, 'reasoning_tokens': 0, 'rejected_prediction_tokens': 0}, 'prompt_tokens_details': {'audio_tokens': 0, 'cached_tokens': 0}}, 'model_name': 'gpt-3.5-turbo', 'system_fingerprint': None, 'finish_reason': 'stop', 'logprobs': None}, id='run-ba817133-197f-40f2-9e53-0da7da3673f0-0')"
      ]
     },
     "execution_count": 10,
     "metadata": {},
     "output_type": "execute_result"
    }
   ],
   "source": [
    "realestate_listings = chat_llm.invoke(messages)\n",
    "realestate_listings"
   ]
  },
  {
   "cell_type": "code",
   "execution_count": 11,
   "id": "934b91b4-dbf6-4e27-b3ae-b1ee83d550b3",
   "metadata": {},
   "outputs": [
    {
     "name": "stdout",
     "output_type": "stream",
     "text": [
      "```json\n",
      "[\n",
      "    {\n",
      "        \"bds\": 3,\n",
      "        \"ba\": 2,\n",
      "        \"sqft\": 1500,\n",
      "        \"price\": 1000000,\n",
      "        \"location\": \"North Hollywood\",\n",
      "        \"school_rating\": 3.8,\n",
      "        \"description\": \"The spacious living area features floor-to-ceiling windows, bringing in ample natural light.\"\n",
      "    },\n",
      "    {\n",
      "        \"bds\": 4,\n",
      "        \"ba\": 3,\n",
      "        \"sqft\": 2200,\n",
      "        \"price\": 1500000,\n",
      "        \"location\": \"Beverly Hills\",\n",
      "        \"school_rating\": 4.5,\n",
      "        \"description\": \"Luxury living in the heart of Beverly Hills, with modern amenities and stunning views.\"\n",
      "    },\n",
      "    {\n",
      "        \"bds\": 2,\n",
      "        \"ba\": 1,\n",
      "        \"sqft\": 1200,\n",
      "        \"price\": 750000,\n",
      "        \"location\": \"Santa Monica\",\n",
      "        \"school_rating\": 4.0,\n",
      "        \"description\": \"Charming beachside condo in Santa Monica, perfect for those seeking a relaxed lifestyle.\"\n",
      "    },\n",
      "    {\n",
      "        \"bds\": 5,\n",
      "        \"ba\": 4,\n",
      "        \"sqft\": 3500,\n",
      "        \"price\": 2500000,\n",
      "        \"location\": \"Malibu\",\n",
      "        \"school_rating\": 4.2,\n",
      "        \"description\": \"Experience the epitome of coastal living in this luxurious Malibu estate with private beach access.\"\n",
      "    },\n",
      "    {\n",
      "        \"bds\": 3,\n",
      "        \"ba\": 2,\n",
      "        \"sqft\": 1800,\n",
      "        \"price\": 980000,\n",
      "        \"location\": \"Pasadena\",\n",
      "        \"school_rating\": 4.1,\n",
      "        \"description\": \"Classic Pasadena home with a beautiful backyard garden, perfect for outdoor entertaining.\"\n",
      "    },\n",
      "    {\n",
      "        \"bds\": 4,\n",
      "        \"ba\": 3,\n",
      "        \"sqft\": 2400,\n",
      "        \"price\": 1350000,\n",
      "        \"location\": \"Downtown Los Angeles\",\n",
      "        \"school_rating\": 3.7,\n",
      "        \"description\": \"Modern urban living in a stylish loft in Downtown LA, close to entertainment and dining options.\"\n",
      "    },\n",
      "    {\n",
      "        \"bds\": 5,\n",
      "        \"ba\": 5,\n",
      "        \"sqft\": 5000,\n",
      "        \"price\": 3800000,\n",
      "        \"location\": \"Pacific Palisades\",\n",
      "        \"school_rating\": 4.8,\n",
      "        \"description\": \"Elegant Mediterranean villa in Pacific Palisades, offering resort-style living with ocean views.\"\n",
      "    }\n",
      "]\n",
      "```\n"
     ]
    },
    {
     "name": "stderr",
     "output_type": "stream",
     "text": [
      "C:\\Users\\sum_c\\AppData\\Local\\Temp\\ipykernel_2912\\2702594770.py:1: PydanticDeprecatedSince20: The `json` method is deprecated; use `model_dump_json` instead. Deprecated in Pydantic V2.0 to be removed in V3.0. See Pydantic V2 Migration Guide at https://errors.pydantic.dev/2.10/migration/\n",
      "  realestates_json = json.loads(realestate_listings.json())[\"content\"]\n"
     ]
    }
   ],
   "source": [
    "realestates_json = json.loads(realestate_listings.json())[\"content\"]\n",
    "print(realestates_json)"
   ]
  },
  {
   "cell_type": "code",
   "execution_count": 13,
   "id": "7862a9bb-b4e0-434d-90cf-8485c407ce5f",
   "metadata": {},
   "outputs": [
    {
     "name": "stdout",
     "output_type": "stream",
     "text": [
      "\n",
      "[\n",
      "    {\n",
      "        \"bds\": 3,\n",
      "        \"ba\": 2,\n",
      "        \"sqft\": 1500,\n",
      "        \"price\": 1000000,\n",
      "        \"location\": \"North Hollywood\",\n",
      "        \"school_rating\": 3.8,\n",
      "        \"description\": \"The spacious living area features floor-to-ceiling windows, bringing in ample natural light.\"\n",
      "    },\n",
      "    {\n",
      "        \"bds\": 4,\n",
      "        \"ba\": 3,\n",
      "        \"sqft\": 2200,\n",
      "        \"price\": 1500000,\n",
      "        \"location\": \"Beverly Hills\",\n",
      "        \"school_rating\": 4.5,\n",
      "        \"description\": \"Luxury living in the heart of Beverly Hills, with modern amenities and stunning views.\"\n",
      "    },\n",
      "    {\n",
      "        \"bds\": 2,\n",
      "        \"ba\": 1,\n",
      "        \"sqft\": 1200,\n",
      "        \"price\": 750000,\n",
      "        \"location\": \"Santa Monica\",\n",
      "        \"school_rating\": 4.0,\n",
      "        \"description\": \"Charming beachside condo in Santa Monica, perfect for those seeking a relaxed lifestyle.\"\n",
      "    },\n",
      "    {\n",
      "        \"bds\": 5,\n",
      "        \"ba\": 4,\n",
      "        \"sqft\": 3500,\n",
      "        \"price\": 2500000,\n",
      "        \"location\": \"Malibu\",\n",
      "        \"school_rating\": 4.2,\n",
      "        \"description\": \"Experience the epitome of coastal living in this luxurious Malibu estate with private beach access.\"\n",
      "    },\n",
      "    {\n",
      "        \"bds\": 3,\n",
      "        \"ba\": 2,\n",
      "        \"sqft\": 1800,\n",
      "        \"price\": 980000,\n",
      "        \"location\": \"Pasadena\",\n",
      "        \"school_rating\": 4.1,\n",
      "        \"description\": \"Classic Pasadena home with a beautiful backyard garden, perfect for outdoor entertaining.\"\n",
      "    },\n",
      "    {\n",
      "        \"bds\": 4,\n",
      "        \"ba\": 3,\n",
      "        \"sqft\": 2400,\n",
      "        \"price\": 1350000,\n",
      "        \"location\": \"Downtown Los Angeles\",\n",
      "        \"school_rating\": 3.7,\n",
      "        \"description\": \"Modern urban living in a stylish loft in Downtown LA, close to entertainment and dining options.\"\n",
      "    },\n",
      "    {\n",
      "        \"bds\": 5,\n",
      "        \"ba\": 5,\n",
      "        \"sqft\": 5000,\n",
      "        \"price\": 3800000,\n",
      "        \"location\": \"Pacific Palisades\",\n",
      "        \"school_rating\": 4.8,\n",
      "        \"description\": \"Elegant Mediterranean villa in Pacific Palisades, offering resort-style living with ocean views.\"\n",
      "    }\n",
      "]\n",
      "\n"
     ]
    }
   ],
   "source": [
    "realestates_json_processed = realestates_json.replace('json','')\n",
    "realestates_json_processed1 = realestates_json_processed.replace(\"```\",\"\")\n",
    "print(realestates_json_processed1)"
   ]
  },
  {
   "cell_type": "markdown",
   "id": "4005d678-bd40-4094-bf93-bbf3243b0052",
   "metadata": {},
   "source": [
    "## Save Listings"
   ]
  },
  {
   "cell_type": "code",
   "execution_count": 14,
   "id": "c10ebd97-6bda-4d1b-94e2-31fe5667c2f5",
   "metadata": {},
   "outputs": [],
   "source": [
    "f= open('data_json',\"w\")\n",
    "f.write(realestates_json_processed1)\n",
    "f.close()"
   ]
  },
  {
   "cell_type": "code",
   "execution_count": 15,
   "id": "ea801809-709a-449e-bc61-4bdf4fc2ba4f",
   "metadata": {},
   "outputs": [
    {
     "data": {
      "text/html": [
       "<div>\n",
       "<style scoped>\n",
       "    .dataframe tbody tr th:only-of-type {\n",
       "        vertical-align: middle;\n",
       "    }\n",
       "\n",
       "    .dataframe tbody tr th {\n",
       "        vertical-align: top;\n",
       "    }\n",
       "\n",
       "    .dataframe thead th {\n",
       "        text-align: right;\n",
       "    }\n",
       "</style>\n",
       "<table border=\"1\" class=\"dataframe\">\n",
       "  <thead>\n",
       "    <tr style=\"text-align: right;\">\n",
       "      <th></th>\n",
       "      <th>bds</th>\n",
       "      <th>ba</th>\n",
       "      <th>sqft</th>\n",
       "      <th>price</th>\n",
       "      <th>location</th>\n",
       "      <th>school_rating</th>\n",
       "      <th>description</th>\n",
       "    </tr>\n",
       "  </thead>\n",
       "  <tbody>\n",
       "    <tr>\n",
       "      <th>0</th>\n",
       "      <td>3</td>\n",
       "      <td>2</td>\n",
       "      <td>1500</td>\n",
       "      <td>1000000</td>\n",
       "      <td>North Hollywood</td>\n",
       "      <td>3.8</td>\n",
       "      <td>The spacious living area features floor-to-cei...</td>\n",
       "    </tr>\n",
       "    <tr>\n",
       "      <th>1</th>\n",
       "      <td>4</td>\n",
       "      <td>3</td>\n",
       "      <td>2200</td>\n",
       "      <td>1500000</td>\n",
       "      <td>Beverly Hills</td>\n",
       "      <td>4.5</td>\n",
       "      <td>Luxury living in the heart of Beverly Hills, w...</td>\n",
       "    </tr>\n",
       "    <tr>\n",
       "      <th>2</th>\n",
       "      <td>2</td>\n",
       "      <td>1</td>\n",
       "      <td>1200</td>\n",
       "      <td>750000</td>\n",
       "      <td>Santa Monica</td>\n",
       "      <td>4.0</td>\n",
       "      <td>Charming beachside condo in Santa Monica, perf...</td>\n",
       "    </tr>\n",
       "    <tr>\n",
       "      <th>3</th>\n",
       "      <td>5</td>\n",
       "      <td>4</td>\n",
       "      <td>3500</td>\n",
       "      <td>2500000</td>\n",
       "      <td>Malibu</td>\n",
       "      <td>4.2</td>\n",
       "      <td>Experience the epitome of coastal living in th...</td>\n",
       "    </tr>\n",
       "    <tr>\n",
       "      <th>4</th>\n",
       "      <td>3</td>\n",
       "      <td>2</td>\n",
       "      <td>1800</td>\n",
       "      <td>980000</td>\n",
       "      <td>Pasadena</td>\n",
       "      <td>4.1</td>\n",
       "      <td>Classic Pasadena home with a beautiful backyar...</td>\n",
       "    </tr>\n",
       "    <tr>\n",
       "      <th>5</th>\n",
       "      <td>4</td>\n",
       "      <td>3</td>\n",
       "      <td>2400</td>\n",
       "      <td>1350000</td>\n",
       "      <td>Downtown Los Angeles</td>\n",
       "      <td>3.7</td>\n",
       "      <td>Modern urban living in a stylish loft in Downt...</td>\n",
       "    </tr>\n",
       "    <tr>\n",
       "      <th>6</th>\n",
       "      <td>5</td>\n",
       "      <td>5</td>\n",
       "      <td>5000</td>\n",
       "      <td>3800000</td>\n",
       "      <td>Pacific Palisades</td>\n",
       "      <td>4.8</td>\n",
       "      <td>Elegant Mediterranean villa in Pacific Palisad...</td>\n",
       "    </tr>\n",
       "  </tbody>\n",
       "</table>\n",
       "</div>"
      ],
      "text/plain": [
       "   bds  ba  sqft    price              location  school_rating  \\\n",
       "0    3   2  1500  1000000       North Hollywood            3.8   \n",
       "1    4   3  2200  1500000         Beverly Hills            4.5   \n",
       "2    2   1  1200   750000          Santa Monica            4.0   \n",
       "3    5   4  3500  2500000                Malibu            4.2   \n",
       "4    3   2  1800   980000              Pasadena            4.1   \n",
       "5    4   3  2400  1350000  Downtown Los Angeles            3.7   \n",
       "6    5   5  5000  3800000     Pacific Palisades            4.8   \n",
       "\n",
       "                                         description  \n",
       "0  The spacious living area features floor-to-cei...  \n",
       "1  Luxury living in the heart of Beverly Hills, w...  \n",
       "2  Charming beachside condo in Santa Monica, perf...  \n",
       "3  Experience the epitome of coastal living in th...  \n",
       "4  Classic Pasadena home with a beautiful backyar...  \n",
       "5  Modern urban living in a stylish loft in Downt...  \n",
       "6  Elegant Mediterranean villa in Pacific Palisad...  "
      ]
     },
     "execution_count": 15,
     "metadata": {},
     "output_type": "execute_result"
    }
   ],
   "source": [
    "df = pd.read_json('data_json')\n",
    "df"
   ]
  },
  {
   "cell_type": "markdown",
   "id": "9465206a-b3ff-46f1-9b89-a4dd33f82f39",
   "metadata": {},
   "source": [
    "## Convert listing description to embedding"
   ]
  },
  {
   "cell_type": "code",
   "execution_count": 16,
   "id": "3eec496e-2586-49cd-8a4b-e490a7fc4c85",
   "metadata": {},
   "outputs": [],
   "source": [
    "db = lancedb.connect(\"realestatedb\")\n",
    "func = get_registry().get(\"openai\").create(name=\"text-embedding-ada-002\")"
   ]
  },
  {
   "cell_type": "code",
   "execution_count": 17,
   "id": "891bc124-5032-42a6-b852-90ed97c9e0c3",
   "metadata": {},
   "outputs": [],
   "source": [
    "class RealEstateListings(LanceModel):\n",
    "    bedrooms:int\n",
    "    bath:int\n",
    "    area:int\n",
    "    price:int\n",
    "    location:str\n",
    "    school_rating:float\n",
    "    description:str = func.SourceField()\n",
    "    description_vector:Vector(func.ndims()) = func.VectorField()"
   ]
  },
  {
   "cell_type": "markdown",
   "id": "15b30f16-390f-4894-a35a-f6cca475bb44",
   "metadata": {},
   "source": [
    "## Save listings in LanceDb"
   ]
  },
  {
   "cell_type": "code",
   "execution_count": 18,
   "id": "e4f43ef6-794b-4fd0-a53d-7b94fd85936d",
   "metadata": {},
   "outputs": [],
   "source": [
    "table = db.create_table(\"realestatelistings\",schema=RealEstateListings,mode=\"overwrite\")\n"
   ]
  },
  {
   "cell_type": "code",
   "execution_count": 19,
   "id": "61e309d2-9a0b-466c-9024-949860c3fb3c",
   "metadata": {},
   "outputs": [],
   "source": [
    "data = df.apply(\n",
    "lambda row:{\n",
    "    \"bedrooms\":row[\"bds\"],\n",
    "    \"bath\":row[\"ba\"],\n",
    "    \"area\":row[\"sqft\"],\n",
    "    \"price\":row[\"price\"],\n",
    "    \"location\":row[\"location\"],\n",
    "    \"school_rating\":row[\"school_rating\"],\n",
    "    \"description\":row[\"description\"]    \n",
    "}, axis=1).values.tolist()"
   ]
  },
  {
   "cell_type": "code",
   "execution_count": 20,
   "id": "fb242be5-65cc-4aa1-ac44-9b72f3569f7a",
   "metadata": {},
   "outputs": [
    {
     "data": {
      "text/plain": [
       "[{'bedrooms': 3,\n",
       "  'bath': 2,\n",
       "  'area': 1500,\n",
       "  'price': 1000000,\n",
       "  'location': 'North Hollywood',\n",
       "  'school_rating': 3.8,\n",
       "  'description': 'The spacious living area features floor-to-ceiling windows, bringing in ample natural light.'},\n",
       " {'bedrooms': 4,\n",
       "  'bath': 3,\n",
       "  'area': 2200,\n",
       "  'price': 1500000,\n",
       "  'location': 'Beverly Hills',\n",
       "  'school_rating': 4.5,\n",
       "  'description': 'Luxury living in the heart of Beverly Hills, with modern amenities and stunning views.'},\n",
       " {'bedrooms': 2,\n",
       "  'bath': 1,\n",
       "  'area': 1200,\n",
       "  'price': 750000,\n",
       "  'location': 'Santa Monica',\n",
       "  'school_rating': 4.0,\n",
       "  'description': 'Charming beachside condo in Santa Monica, perfect for those seeking a relaxed lifestyle.'},\n",
       " {'bedrooms': 5,\n",
       "  'bath': 4,\n",
       "  'area': 3500,\n",
       "  'price': 2500000,\n",
       "  'location': 'Malibu',\n",
       "  'school_rating': 4.2,\n",
       "  'description': 'Experience the epitome of coastal living in this luxurious Malibu estate with private beach access.'},\n",
       " {'bedrooms': 3,\n",
       "  'bath': 2,\n",
       "  'area': 1800,\n",
       "  'price': 980000,\n",
       "  'location': 'Pasadena',\n",
       "  'school_rating': 4.1,\n",
       "  'description': 'Classic Pasadena home with a beautiful backyard garden, perfect for outdoor entertaining.'},\n",
       " {'bedrooms': 4,\n",
       "  'bath': 3,\n",
       "  'area': 2400,\n",
       "  'price': 1350000,\n",
       "  'location': 'Downtown Los Angeles',\n",
       "  'school_rating': 3.7,\n",
       "  'description': 'Modern urban living in a stylish loft in Downtown LA, close to entertainment and dining options.'},\n",
       " {'bedrooms': 5,\n",
       "  'bath': 5,\n",
       "  'area': 5000,\n",
       "  'price': 3800000,\n",
       "  'location': 'Pacific Palisades',\n",
       "  'school_rating': 4.8,\n",
       "  'description': 'Elegant Mediterranean villa in Pacific Palisades, offering resort-style living with ocean views.'}]"
      ]
     },
     "execution_count": 20,
     "metadata": {},
     "output_type": "execute_result"
    }
   ],
   "source": [
    "data"
   ]
  },
  {
   "cell_type": "code",
   "execution_count": 21,
   "id": "4576b1be-fb36-483e-b8fe-395d0941f62e",
   "metadata": {},
   "outputs": [],
   "source": [
    "#create a pandas dataframe\n",
    "pdf = pd.DataFrame(data)\n"
   ]
  },
  {
   "cell_type": "code",
   "execution_count": 23,
   "id": "9fb43ff1-4bfb-48a6-a96c-fd57450bfd79",
   "metadata": {},
   "outputs": [],
   "source": [
    "table.add(pdf)"
   ]
  },
  {
   "cell_type": "code",
   "execution_count": 26,
   "id": "13bf5a96-ccfe-4d39-972a-fd3974852b9d",
   "metadata": {},
   "outputs": [
    {
     "data": {
      "text/plain": [
       "pyarrow.Table\n",
       "bedrooms: int64 not null\n",
       "bath: int64 not null\n",
       "area: int64 not null\n",
       "price: int64 not null\n",
       "location: string not null\n",
       "school_rating: double not null\n",
       "description: string not null\n",
       "description_vector: fixed_size_list<item: float>[1536]\n",
       "  child 0, item: float\n",
       "----\n",
       "bedrooms: [[3,4,2,5,3]]\n",
       "bath: [[2,3,1,4,2]]\n",
       "area: [[1500,2200,1200,3500,1800]]\n",
       "price: [[1000000,1500000,750000,2500000,980000]]\n",
       "location: [[\"North Hollywood\",\"Beverly Hills\",\"Santa Monica\",\"Malibu\",\"Pasadena\"]]\n",
       "school_rating: [[3.8,4.5,4,4.2,4.1]]\n",
       "description: [[\"The spacious living area features floor-to-ceiling windows, bringing in ample natural light.\",\"Luxury living in the heart of Beverly Hills, with modern amenities and stunning views.\",\"Charming beachside condo in Santa Monica, perfect for those seeking a relaxed lifestyle.\",\"Experience the epitome of coastal living in this luxurious Malibu estate with private beach access.\",\"Classic Pasadena home with a beautiful backyard garden, perfect for outdoor entertaining.\"]]\n",
       "description_vector: [[[0.012575021,0.0006467786,0.0069580097,-0.0030710124,-0.006331789,...,0.024555448,0.0016288068,-0.028009152,-0.003981879,-0.03400569],[-0.004943543,-0.0077806246,0.0027595914,-0.022709303,0.006249802,...,0.01361293,0.009191258,-0.007584527,0.0012825378,-0.03132492],[0.01947483,-0.0030328059,0.013350833,-0.012689129,-0.009568745,...,0.008576191,0.03266997,0.0005056028,-0.0011960932,-0.049251467],[-0.0038384548,-0.0037837117,0.008179258,-0.01662901,-0.020995576,...,0.011914667,0.021137264,-0.015869047,-0.0031589968,-0.044902194],[0.020166242,0.010955387,0.005145712,0.0029504034,-0.009673026,...,0.014867559,0.020621903,-0.004774674,-0.003355616,-0.031349458]]]"
      ]
     },
     "execution_count": 26,
     "metadata": {},
     "output_type": "execute_result"
    }
   ],
   "source": [
    "table.head(5)"
   ]
  },
  {
   "cell_type": "markdown",
   "id": "c2da8269-a7b3-42cc-bc06-de72041c0082",
   "metadata": {},
   "source": [
    "## Capture User Preferences from user query using output parser"
   ]
  },
  {
   "cell_type": "code",
   "execution_count": 24,
   "id": "a9777624-4edd-4390-b513-be8b391f1a49",
   "metadata": {},
   "outputs": [
    {
     "name": "stdout",
     "output_type": "stream",
     "text": [
      "The output should be a markdown code snippet formatted in the following schema, including the leading and trailing \"```json\" and \"```\":\n",
      "\n",
      "```json\n",
      "{\n",
      "\t\"price\": string  // This refers to the maximum listing price of the property the customer is looking for.Provide the number value if specified otherwise use 0\n",
      "\t\"bedrooms\": string  // This refers to the number of bedrooms the customer requires for the property. Provide the number value if specified otherwise use 0if the \n",
      "\t\"bath\": string  // This refers to the number of bathrooms the customer requires for the property.Provide the number value if specified otherwise use 0\n",
      "\t\"area\": string  // This refers to the size of the property the customer requires.Provide the float value if specified otherwise use 0.0\n",
      "\t\"location\": string  // This refers to the city where the customer is looking to buy the property\n",
      "\t\"school_rating\": string  // This refers to the rating of the school district  the where the property is located.Provide the float value if specified otherwise use 0.0\n",
      "\t\"description\": string  // This refers to the generalised description for the type of property the customer is looking for\n",
      "}\n",
      "```\n"
     ]
    }
   ],
   "source": [
    "price_schema = ResponseSchema(name=\"price\",description=\"This refers to the maximum listing price of the property the customer is looking for.Provide the number value if specified otherwise use 0\")\n",
    "bedrooms_schema = ResponseSchema(name=\"bedrooms\",description=\"This refers to the number of bedrooms the customer requires for the property. Provide the number value if specified otherwise use 0 \")\n",
    "bathroom_schema = ResponseSchema(name=\"bath\", description=\"This refers to the number of bathrooms the customer requires for the property.Provide the number value if specified otherwise use 0\")\n",
    "size_schema = ResponseSchema(name=\"area\", description=\"This refers to the size of the property the customer requires.Provide the float value if specified otherwise use 0.0\")\n",
    "location_schema = ResponseSchema(name=\"location\", description =\"This refers to the city where the customer is looking to buy the property\")\n",
    "school_schema = ResponseSchema(name=\"school_rating\", description =\"This refers to the rating of the school district  the where the property is located.Provide the float value if specified otherwise use 0.0\")\n",
    "preferences_schema = ResponseSchema(name=\"description\", description = \"This refers to the generalised description for the type of property the customer is looking for\")\n",
    "response_schemas = [price_schema, bedrooms_schema,bathroom_schema,size_schema,location_schema,school_schema, preferences_schema]\n",
    "\n",
    "output_parser = StructuredOutputParser.from_response_schemas(response_schemas)\n",
    "\n",
    "format_instructions = output_parser.get_format_instructions()\n",
    "print(format_instructions)"
   ]
  },
  {
   "cell_type": "code",
   "execution_count": 35,
   "id": "ba3adbfd-db87-4574-8daa-349b34304131",
   "metadata": {},
   "outputs": [],
   "source": [
    "def build_where_expression(metadata_dict):\n",
    "    expression = \"\"\n",
    "    \n",
    "    if \"price\" in metadata_dict:\n",
    "        listmaxprice = int(metadata_dict[\"price\"])\n",
    "        if listmaxprice > 0:\n",
    "            expression = f\"price < {listmaxprice}\"\n",
    "            \n",
    "    if \"bedrooms\" in metadata_dict:\n",
    "        beds = int(metadata_dict[\"bedrooms\"])\n",
    "        if beds > 0:\n",
    "            if expression:\n",
    "                expression = expression + \" and \"\n",
    "            expression = expression + f\"bedrooms >= {beds}\"\n",
    "            \n",
    "    if \"bath\" in metadata_dict:\n",
    "        bathrooms = int(metadata_dict[\"bath\"])\n",
    "        if bathrooms > 0:\n",
    "            if expression:\n",
    "                expression = expression + \" and \"\n",
    "            expression = expression + f\"bath >= {bathrooms}\"\n",
    "        \n",
    "    if \"area\" in metadata_dict:\n",
    "        size = int(metadata_dict[\"area\"])\n",
    "        if size > 0:\n",
    "            if expression:\n",
    "                expression = expression + \" and \"\n",
    "            expression = expression + f\"area >= {size}\"\n",
    "        \n",
    "    if \"school_rating\" in metadata_dict:\n",
    "        schoolrating = float(metadata_dict[\"school_rating\"])\n",
    "        if schoolrating > 0:\n",
    "            if expression:\n",
    "                expression = expression + \" and \"\n",
    "            expression = expression + f\"school_rating >= {schoolrating}\"\n",
    "        \n",
    "    return expression\n",
    "     "
   ]
  },
  {
   "cell_type": "code",
   "execution_count": 28,
   "id": "e722bbba-f1fb-4fef-a1df-e98bcc2fee31",
   "metadata": {},
   "outputs": [],
   "source": [
    "def extract_preferences(user_input):\n",
    "    template = \"\"\"\n",
    "    From the following text message, extract the following information:\n",
    "\n",
    "    text message:{text}\n",
    "    {format_instructions}\n",
    "    \"\"\"\n",
    "    prompt_template = ChatPromptTemplate.from_template(template)\n",
    "    messages = prompt_template.format_messages(text=user_input, format_instructions=format_instructions)\n",
    "\n",
    "    response = chat_llm(messages)\n",
    "    output_dict = output_parser.parse(response.content)\n",
    "    return output_dict"
   ]
  },
  {
   "cell_type": "code",
   "execution_count": 29,
   "id": "0dbde48b-ccd5-4cc3-bd73-b91ecbc2a8fe",
   "metadata": {},
   "outputs": [],
   "source": [
    "# if starting a new session open the lance Db table\n",
    "try:\n",
    "    table\n",
    "except NameError:\n",
    "    lance_db = lancedb.connect(\"realestatedb\")\n",
    "    table = lance_db.open_table(\"realestatelistings\") "
   ]
  },
  {
   "cell_type": "markdown",
   "id": "fa2b63f5-6d26-4834-bd5a-97dc47c90178",
   "metadata": {},
   "source": [
    "## Filter based on user preferences and do a vector search"
   ]
  },
  {
   "cell_type": "code",
   "execution_count": 42,
   "id": "70567cd0-294b-4bb6-9f93-43cca2693ac1",
   "metadata": {},
   "outputs": [],
   "source": [
    "def find_best_matches(user_input,top_n_listings):\n",
    "    preferences = {}    \n",
    "    metadata_dict = extract_preferences(user_input)\n",
    "    print(metadata_dict)\n",
    "    exprfilter = build_where_expression(metadata_dict)\n",
    "    if \"description\" in metadata_dict:\n",
    "        preferences = metadata_dict[\"description\"]\n",
    "    filteredDf = table.search(preferences,vector_column_name = \"description_vector\").where(exprfilter,prefilter=True).limit(top_n_listings).to_pandas()\n",
    "    return filteredDf"
   ]
  },
  {
   "cell_type": "code",
   "execution_count": 43,
   "id": "430e246e-6930-483b-9b02-78a10696b63d",
   "metadata": {},
   "outputs": [
    {
     "name": "stdout",
     "output_type": "stream",
     "text": [
      "{'price': 0, 'bedrooms': '3', 'bath': '2', 'area': 0.0, 'location': '', 'school_rating': 0.0, 'description': 'Looking for a home with a backyard with at least 3 bedrooms and 2 bathrooms'}\n"
     ]
    },
    {
     "data": {
      "text/html": [
       "<div>\n",
       "<style scoped>\n",
       "    .dataframe tbody tr th:only-of-type {\n",
       "        vertical-align: middle;\n",
       "    }\n",
       "\n",
       "    .dataframe tbody tr th {\n",
       "        vertical-align: top;\n",
       "    }\n",
       "\n",
       "    .dataframe thead th {\n",
       "        text-align: right;\n",
       "    }\n",
       "</style>\n",
       "<table border=\"1\" class=\"dataframe\">\n",
       "  <thead>\n",
       "    <tr style=\"text-align: right;\">\n",
       "      <th></th>\n",
       "      <th>bedrooms</th>\n",
       "      <th>bath</th>\n",
       "      <th>area</th>\n",
       "      <th>price</th>\n",
       "      <th>location</th>\n",
       "      <th>school_rating</th>\n",
       "      <th>description</th>\n",
       "      <th>description_vector</th>\n",
       "      <th>_distance</th>\n",
       "    </tr>\n",
       "  </thead>\n",
       "  <tbody>\n",
       "    <tr>\n",
       "      <th>0</th>\n",
       "      <td>3</td>\n",
       "      <td>2</td>\n",
       "      <td>1800</td>\n",
       "      <td>980000</td>\n",
       "      <td>Pasadena</td>\n",
       "      <td>4.1</td>\n",
       "      <td>Classic Pasadena home with a beautiful backyar...</td>\n",
       "      <td>[0.020166242, 0.010955387, 0.005145712, 0.0029...</td>\n",
       "      <td>0.297557</td>\n",
       "    </tr>\n",
       "    <tr>\n",
       "      <th>1</th>\n",
       "      <td>5</td>\n",
       "      <td>4</td>\n",
       "      <td>3500</td>\n",
       "      <td>2500000</td>\n",
       "      <td>Malibu</td>\n",
       "      <td>4.2</td>\n",
       "      <td>Experience the epitome of coastal living in th...</td>\n",
       "      <td>[-0.0038384548, -0.0037837117, 0.008179258, -0...</td>\n",
       "      <td>0.422237</td>\n",
       "    </tr>\n",
       "    <tr>\n",
       "      <th>2</th>\n",
       "      <td>4</td>\n",
       "      <td>3</td>\n",
       "      <td>2200</td>\n",
       "      <td>1500000</td>\n",
       "      <td>Beverly Hills</td>\n",
       "      <td>4.5</td>\n",
       "      <td>Luxury living in the heart of Beverly Hills, w...</td>\n",
       "      <td>[-0.004943543, -0.0077806246, 0.0027595914, -0...</td>\n",
       "      <td>0.429478</td>\n",
       "    </tr>\n",
       "  </tbody>\n",
       "</table>\n",
       "</div>"
      ],
      "text/plain": [
       "   bedrooms  bath  area    price       location  school_rating  \\\n",
       "0         3     2  1800   980000       Pasadena            4.1   \n",
       "1         5     4  3500  2500000         Malibu            4.2   \n",
       "2         4     3  2200  1500000  Beverly Hills            4.5   \n",
       "\n",
       "                                         description  \\\n",
       "0  Classic Pasadena home with a beautiful backyar...   \n",
       "1  Experience the epitome of coastal living in th...   \n",
       "2  Luxury living in the heart of Beverly Hills, w...   \n",
       "\n",
       "                                  description_vector  _distance  \n",
       "0  [0.020166242, 0.010955387, 0.005145712, 0.0029...   0.297557  \n",
       "1  [-0.0038384548, -0.0037837117, 0.008179258, -0...   0.422237  \n",
       "2  [-0.004943543, -0.0077806246, 0.0027595914, -0...   0.429478  "
      ]
     },
     "execution_count": 43,
     "metadata": {},
     "output_type": "execute_result"
    }
   ],
   "source": [
    "user_input=\"I am looking for a home with a backyard with at least 3 bedrooms and 2 bath\"\n",
    "filteredDf = find_best_matches(user_input,3)\n",
    "filteredDf.head()"
   ]
  },
  {
   "cell_type": "markdown",
   "id": "29134c99-5771-455b-907d-6325163c3cde",
   "metadata": {},
   "source": [
    "### Augment the output"
   ]
  },
  {
   "cell_type": "code",
   "execution_count": 74,
   "id": "24fd6999-441c-4a7f-9380-1163bdd42eba",
   "metadata": {},
   "outputs": [],
   "source": [
    "import inflect\n",
    "def augment_output(query,df):\n",
    "    context=\"\"\n",
    "   # p = inflect.engine()\n",
    "    for index,row in df.iterrows():\n",
    "       # context = context + \"The property having an area of \" + p.number_to_words(int(row[\"area\"])) + \" is located in \"+ row[\"location\"] + \" with a price of \"+ p.number_to_words(int(row[\"price\"])) + \" and has \"+ p.number_to_words(int(row[\"bedrooms\"])) + \" bedrooms and near to a school district with a rating of \"+ p.number_to_words(int(row[\"school_rating\"])) + \".\" + row[\"description\"] + \".\\n\\n\"\n",
    "        context = context + \"The property having an area of \" + f\"{row[\"area\"]} sqft\" + \" is located in \"+ f\"{row[\"location\"]}\" + \" with a price of \"+ f\"{row[\"price\"]}\" + \" and has \"+ f\"{row[\"bedrooms\"]}\" + \" bedrooms and near to a school district with a rating of \"+ f\"{row[\"school_rating\"]}\" + \".\" + row[\"description\"] + \".\\n\\n\"\n",
    "               \n",
    "        response = openai.chat.completions.create(\n",
    "        model=\"gpt-3.5-turbo\",\n",
    "        messages=[\n",
    "            {\n",
    "                \"role\":\"system\",\n",
    "                \"content\":\"You are an expert real estate agent that answers questions based on context provided.Augment the description to resonate with user preferences. \\n If you do not \"\n",
    "                + \" know the answer say you do not have enough information\"\n",
    "            },\n",
    "            {\n",
    "               \"role\":\"user\", \n",
    "                \"content\":f\"context:{context}\\n QUERY:{query}\"\n",
    "            }\n",
    "                        \n",
    "        ],\n",
    "     )\n",
    "    response = response.choices[0].message.content\n",
    "    return response"
   ]
  },
  {
   "cell_type": "code",
   "execution_count": 75,
   "id": "77760a96-e69c-4664-b6fd-b29f179594f7",
   "metadata": {
    "scrolled": true
   },
   "outputs": [
    {
     "data": {
      "text/plain": [
       "'Based on your preferences for a home with a backyard, at least 3 bedrooms, and 2 bathrooms, I would recommend exploring the Classic Pasadena home. It offers a comfortable living space with 3 bedrooms and is situated in a desirable location with a school district rating of 4.1. The beautiful backyard garden makes it perfect for outdoor entertaining, fulfilling your desire for a home with outdoor space. Plus, the price of $980,000 makes it an attractive option for those looking for a cozy and inviting property.'"
      ]
     },
     "execution_count": 75,
     "metadata": {},
     "output_type": "execute_result"
    }
   ],
   "source": [
    "augment_output(\"I am looking for a home with a backyard with at least 3 bedrooms and 2 bath\",filteredDf)"
   ]
  },
  {
   "cell_type": "code",
   "execution_count": null,
   "id": "c5161eb1-1d61-46a2-9e8d-86e1ae293a41",
   "metadata": {},
   "outputs": [],
   "source": []
  }
 ],
 "metadata": {
  "kernelspec": {
   "display_name": "Python 3 (ipykernel)",
   "language": "python",
   "name": "python3"
  },
  "language_info": {
   "codemirror_mode": {
    "name": "ipython",
    "version": 3
   },
   "file_extension": ".py",
   "mimetype": "text/x-python",
   "name": "python",
   "nbconvert_exporter": "python",
   "pygments_lexer": "ipython3",
   "version": "3.13.2"
  }
 },
 "nbformat": 4,
 "nbformat_minor": 5
}
